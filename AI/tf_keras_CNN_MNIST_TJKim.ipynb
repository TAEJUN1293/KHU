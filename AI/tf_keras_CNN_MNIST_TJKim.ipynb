{
  "nbformat": 4,
  "nbformat_minor": 0,
  "metadata": {
    "kernelspec": {
      "display_name": "Python 3",
      "language": "python",
      "name": "python3"
    },
    "language_info": {
      "codemirror_mode": {
        "name": "ipython",
        "version": 3
      },
      "file_extension": ".py",
      "mimetype": "text/x-python",
      "name": "python",
      "nbconvert_exporter": "python",
      "pygments_lexer": "ipython3",
      "version": "3.7.4"
    },
    "colab": {
      "name": "tf.keras_CNN_MNIST_TJKim.ipynb",
      "provenance": [],
      "collapsed_sections": []
    }
  },
  "cells": [
    {
      "cell_type": "code",
      "metadata": {
        "id": "qTEQyMB4hu2e"
      },
      "source": [
        "import tensorflow as tf\n",
        "from tensorflow.keras import layers, utils, Sequential\n",
        "from tensorflow.keras.callbacks import EarlyStopping\n",
        "from tensorflow.keras.datasets import mnist"
      ],
      "execution_count": null,
      "outputs": []
    },
    {
      "cell_type": "code",
      "metadata": {
        "id": "EU-u6jREtQtz"
      },
      "source": [
        "# hyperparameters (실험변경 편의를 위하여 상단에 기재하였음)\n",
        "batch_size = 250\n",
        "epochs = 30\n",
        "learning_rate = 0.1\n",
        "dropout_rate = 0.2\n",
        "patience = 10"
      ],
      "execution_count": null,
      "outputs": []
    },
    {
      "cell_type": "code",
      "metadata": {
        "colab": {
          "base_uri": "https://localhost:8080/"
        },
        "id": "VWlFawQbhu2g",
        "outputId": "6d08523a-6e48-46c7-afdb-a86e1522e6f2"
      },
      "source": [
        "# input image dimensions, output dimension\n",
        "img_rows, img_cols = 28, 28\n",
        "num_classes = 10\n",
        "\n",
        "# the data, shuffled and split between train and test sets\n",
        "(x_train, y_train), (x_test, y_test) = mnist.load_data()\n",
        "\n",
        "x_train = x_train.reshape(x_train.shape[0], img_rows, img_cols, 1)\n",
        "x_test = x_test.reshape(x_test.shape[0], img_rows, img_cols, 1)\n",
        "input_shape = (img_rows, img_cols, 1)\n",
        "\n",
        "x_train = x_train.astype('float32')\n",
        "x_test = x_test.astype('float32')\n",
        "x_train /= 255\n",
        "x_test /= 255\n",
        "print('x_train shape:', x_train.shape)\n",
        "print(x_train.shape[0], 'train samples')\n",
        "print(x_test.shape[0], 'test samples')\n",
        "\n",
        "# convert class vectors to binary class matrices\n",
        "y_train = utils.to_categorical(y_train, num_classes)\n",
        "y_test = utils.to_categorical(y_test, num_classes)"
      ],
      "execution_count": null,
      "outputs": [
        {
          "output_type": "stream",
          "name": "stdout",
          "text": [
            "x_train shape: (60000, 28, 28, 1)\n",
            "60000 train samples\n",
            "10000 test samples\n"
          ]
        }
      ]
    },
    {
      "cell_type": "code",
      "metadata": {
        "colab": {
          "base_uri": "https://localhost:8080/"
        },
        "id": "V_ZPXPOPhu2g",
        "outputId": "7589c796-5007-48f2-a7c8-959b888c3fab"
      },
      "source": [
        "model = Sequential()\n",
        "model.add(layers.Conv2D(32, kernel_size=(3, 3),activation='relu',input_shape=input_shape))\n",
        "\n",
        "model.add(layers.MaxPooling2D(pool_size=(2, 2), strides=(2, 2)))\n",
        "model.add(layers.Dropout(dropout_rate))\n",
        "\n",
        "model.add(layers.Conv2D(64, (3, 3), activation='relu'))\n",
        "model.add(layers.MaxPooling2D(pool_size=(2, 2), strides=(2, 2)))\n",
        "model.add(layers.Dropout(dropout_rate))\n",
        "model.add(layers.Flatten())\n",
        "\n",
        "model.add(layers.Dense(32, activation='relu'))\n",
        "model.add(layers.Dropout(dropout_rate))\n",
        "model.add(layers.Dense(32, activation='relu'))\n",
        "model.add(layers.Dropout(dropout_rate))\n",
        "model.add(layers.Dense(num_classes, activation='softmax'))\n",
        "\n",
        "model.summary()"
      ],
      "execution_count": null,
      "outputs": [
        {
          "output_type": "stream",
          "name": "stdout",
          "text": [
            "Model: \"sequential_6\"\n",
            "_________________________________________________________________\n",
            " Layer (type)                Output Shape              Param #   \n",
            "=================================================================\n",
            " conv2d_12 (Conv2D)          (None, 26, 26, 32)        320       \n",
            "                                                                 \n",
            " max_pooling2d_12 (MaxPoolin  (None, 13, 13, 32)       0         \n",
            " g2D)                                                            \n",
            "                                                                 \n",
            " dropout_18 (Dropout)        (None, 13, 13, 32)        0         \n",
            "                                                                 \n",
            " conv2d_13 (Conv2D)          (None, 11, 11, 64)        18496     \n",
            "                                                                 \n",
            " max_pooling2d_13 (MaxPoolin  (None, 5, 5, 64)         0         \n",
            " g2D)                                                            \n",
            "                                                                 \n",
            " dropout_19 (Dropout)        (None, 5, 5, 64)          0         \n",
            "                                                                 \n",
            " flatten_6 (Flatten)         (None, 1600)              0         \n",
            "                                                                 \n",
            " dense_12 (Dense)            (None, 32)                51232     \n",
            "                                                                 \n",
            " dropout_20 (Dropout)        (None, 32)                0         \n",
            "                                                                 \n",
            " dense_13 (Dense)            (None, 32)                1056      \n",
            "                                                                 \n",
            " dropout_21 (Dropout)        (None, 32)                0         \n",
            "                                                                 \n",
            " dense_14 (Dense)            (None, 10)                330       \n",
            "                                                                 \n",
            "=================================================================\n",
            "Total params: 71,434\n",
            "Trainable params: 71,434\n",
            "Non-trainable params: 0\n",
            "_________________________________________________________________\n"
          ]
        }
      ]
    },
    {
      "cell_type": "code",
      "metadata": {
        "colab": {
          "base_uri": "https://localhost:8080/"
        },
        "id": "yEb5iRHUv8sT",
        "outputId": "1fcff232-714f-4e80-82cf-6bc9cc18d4d6"
      },
      "source": [
        "# compile model\n",
        "model.compile(\n",
        "    loss = 'categorical_crossentropy',\n",
        "    optimizer = 'Adam',\n",
        "    metrics = ['accuracy'])\n",
        "\n",
        "# train model\n",
        "early_stop = EarlyStopping(monitor = 'val_loss', patience = 5, mode='min')\n",
        "hist2 = model.fit(x_train, y_train,\n",
        "          batch_size = batch_size,\n",
        "          epochs = epochs,\n",
        "          validation_split = 0.4,\n",
        "          callbacks = [early_stop], \n",
        "          shuffle = True,\n",
        "          verbose = 1)\n",
        "\n",
        "# 테스트 데이터로 평가하기\n",
        "score = model.evaluate(x_test, y_test)\n",
        "print('test_loss: ', score[0])\n",
        "print('test_acc: ', score[1])"
      ],
      "execution_count": null,
      "outputs": [
        {
          "output_type": "stream",
          "name": "stdout",
          "text": [
            "Epoch 1/30\n",
            "144/144 [==============================] - 24s 162ms/step - loss: 1.0003 - accuracy: 0.6666 - val_loss: 0.2077 - val_accuracy: 0.9449\n",
            "Epoch 2/30\n",
            "144/144 [==============================] - 23s 158ms/step - loss: 0.3374 - accuracy: 0.8984 - val_loss: 0.1159 - val_accuracy: 0.9671\n",
            "Epoch 3/30\n",
            "144/144 [==============================] - 23s 158ms/step - loss: 0.2327 - accuracy: 0.9316 - val_loss: 0.0942 - val_accuracy: 0.9713\n",
            "Epoch 4/30\n",
            "144/144 [==============================] - 23s 158ms/step - loss: 0.1950 - accuracy: 0.9434 - val_loss: 0.0793 - val_accuracy: 0.9761\n",
            "Epoch 5/30\n",
            "144/144 [==============================] - 23s 158ms/step - loss: 0.1619 - accuracy: 0.9527 - val_loss: 0.0696 - val_accuracy: 0.9799\n",
            "Epoch 6/30\n",
            "144/144 [==============================] - 23s 162ms/step - loss: 0.1388 - accuracy: 0.9592 - val_loss: 0.0700 - val_accuracy: 0.9803\n",
            "Epoch 7/30\n",
            "144/144 [==============================] - 23s 163ms/step - loss: 0.1307 - accuracy: 0.9625 - val_loss: 0.0637 - val_accuracy: 0.9814\n",
            "Epoch 8/30\n",
            "144/144 [==============================] - 23s 161ms/step - loss: 0.1184 - accuracy: 0.9657 - val_loss: 0.0586 - val_accuracy: 0.9837\n",
            "Epoch 9/30\n",
            "144/144 [==============================] - 23s 160ms/step - loss: 0.1053 - accuracy: 0.9688 - val_loss: 0.0567 - val_accuracy: 0.9840\n",
            "Epoch 10/30\n",
            "144/144 [==============================] - 23s 160ms/step - loss: 0.0976 - accuracy: 0.9717 - val_loss: 0.0535 - val_accuracy: 0.9846\n",
            "Epoch 11/30\n",
            "144/144 [==============================] - 23s 160ms/step - loss: 0.0923 - accuracy: 0.9721 - val_loss: 0.0536 - val_accuracy: 0.9850\n",
            "Epoch 12/30\n",
            "144/144 [==============================] - 23s 160ms/step - loss: 0.0841 - accuracy: 0.9750 - val_loss: 0.0551 - val_accuracy: 0.9847\n",
            "Epoch 13/30\n",
            "144/144 [==============================] - 23s 160ms/step - loss: 0.0818 - accuracy: 0.9759 - val_loss: 0.0525 - val_accuracy: 0.9855\n",
            "Epoch 14/30\n",
            "144/144 [==============================] - 23s 160ms/step - loss: 0.0751 - accuracy: 0.9779 - val_loss: 0.0524 - val_accuracy: 0.9862\n",
            "Epoch 15/30\n",
            "144/144 [==============================] - 23s 160ms/step - loss: 0.0785 - accuracy: 0.9770 - val_loss: 0.0521 - val_accuracy: 0.9852\n",
            "Epoch 16/30\n",
            "144/144 [==============================] - 23s 159ms/step - loss: 0.0732 - accuracy: 0.9783 - val_loss: 0.0500 - val_accuracy: 0.9868\n",
            "Epoch 17/30\n",
            "144/144 [==============================] - 23s 161ms/step - loss: 0.0672 - accuracy: 0.9802 - val_loss: 0.0487 - val_accuracy: 0.9872\n",
            "Epoch 18/30\n",
            "144/144 [==============================] - 23s 159ms/step - loss: 0.0629 - accuracy: 0.9812 - val_loss: 0.0476 - val_accuracy: 0.9874\n",
            "Epoch 19/30\n",
            "144/144 [==============================] - 23s 161ms/step - loss: 0.0615 - accuracy: 0.9819 - val_loss: 0.0470 - val_accuracy: 0.9879\n",
            "Epoch 20/30\n",
            "144/144 [==============================] - 23s 161ms/step - loss: 0.0588 - accuracy: 0.9825 - val_loss: 0.0464 - val_accuracy: 0.9877\n",
            "Epoch 21/30\n",
            "144/144 [==============================] - 23s 159ms/step - loss: 0.0573 - accuracy: 0.9825 - val_loss: 0.0452 - val_accuracy: 0.9882\n",
            "Epoch 22/30\n",
            "144/144 [==============================] - 23s 160ms/step - loss: 0.0552 - accuracy: 0.9836 - val_loss: 0.0492 - val_accuracy: 0.9877\n",
            "Epoch 23/30\n",
            "144/144 [==============================] - 23s 161ms/step - loss: 0.0519 - accuracy: 0.9840 - val_loss: 0.0441 - val_accuracy: 0.9892\n",
            "Epoch 24/30\n",
            "144/144 [==============================] - 23s 159ms/step - loss: 0.0505 - accuracy: 0.9845 - val_loss: 0.0441 - val_accuracy: 0.9893\n",
            "Epoch 25/30\n",
            "144/144 [==============================] - 23s 160ms/step - loss: 0.0500 - accuracy: 0.9845 - val_loss: 0.0442 - val_accuracy: 0.9893\n",
            "Epoch 26/30\n",
            "144/144 [==============================] - 23s 160ms/step - loss: 0.0489 - accuracy: 0.9848 - val_loss: 0.0466 - val_accuracy: 0.9889\n",
            "Epoch 27/30\n",
            "144/144 [==============================] - 23s 159ms/step - loss: 0.0478 - accuracy: 0.9859 - val_loss: 0.0431 - val_accuracy: 0.9898\n",
            "Epoch 28/30\n",
            "144/144 [==============================] - 23s 159ms/step - loss: 0.0443 - accuracy: 0.9871 - val_loss: 0.0457 - val_accuracy: 0.9890\n",
            "Epoch 29/30\n",
            "144/144 [==============================] - 23s 159ms/step - loss: 0.0466 - accuracy: 0.9858 - val_loss: 0.0464 - val_accuracy: 0.9891\n",
            "Epoch 30/30\n",
            "144/144 [==============================] - 23s 158ms/step - loss: 0.0412 - accuracy: 0.9874 - val_loss: 0.0470 - val_accuracy: 0.9890\n",
            "313/313 [==============================] - 3s 8ms/step - loss: 0.0318 - accuracy: 0.9904\n",
            "test_loss:  0.031800806522369385\n",
            "test_acc:  0.9904000163078308\n"
          ]
        }
      ]
    },
    {
      "cell_type": "markdown",
      "metadata": {
        "id": "KeM75AIT0HWz"
      },
      "source": [
        "\"Epoch 3/10\"의 의미는?\n",
        "\n",
        "\"38s 77ms/step\"의 의미는?\n",
        "\n",
        "\"loss: 0.1105 - accuracy: 0.9666 - val_loss: 0.0624 - val_accuracy: 0.9827\"의 의미는?"
      ]
    },
    {
      "cell_type": "code",
      "metadata": {
        "colab": {
          "base_uri": "https://localhost:8080/",
          "height": 170
        },
        "id": "CJQsI30u2msY",
        "outputId": "e5ebaaf7-fa9f-41d9-8276-73dad13c3755"
      },
      "source": [
        "hist2.history.keys()"
      ],
      "execution_count": null,
      "outputs": [
        {
          "output_type": "error",
          "ename": "NameError",
          "evalue": "ignored",
          "traceback": [
            "\u001b[0;31m---------------------------------------------------------------------------\u001b[0m",
            "\u001b[0;31mNameError\u001b[0m                                 Traceback (most recent call last)",
            "\u001b[0;32m<ipython-input-39-932b110bcfbb>\u001b[0m in \u001b[0;36m<module>\u001b[0;34m()\u001b[0m\n\u001b[0;32m----> 1\u001b[0;31m \u001b[0mhist\u001b[0m\u001b[0;34m.\u001b[0m\u001b[0mhistory\u001b[0m\u001b[0;34m.\u001b[0m\u001b[0mkeys\u001b[0m\u001b[0;34m(\u001b[0m\u001b[0;34m)\u001b[0m\u001b[0;34m\u001b[0m\u001b[0;34m\u001b[0m\u001b[0m\n\u001b[0m",
            "\u001b[0;31mNameError\u001b[0m: name 'hist' is not defined"
          ]
        }
      ]
    },
    {
      "cell_type": "code",
      "metadata": {
        "colab": {
          "base_uri": "https://localhost:8080/",
          "height": 280
        },
        "id": "14PcU398zAdI",
        "outputId": "42a99285-896d-4523-cdd5-59510221ed3d"
      },
      "source": [
        "import matplotlib.pyplot as plt\n",
        "\n",
        "fig, loss_ax = plt.subplots()\n",
        "acc_ax = loss_ax.twinx()\n",
        "\n",
        "loss_ax.plot(hist2.history['loss'], 'y', label='train loss')\n",
        "loss_ax.plot(hist2.history['val_loss'], 'r', label='val loss')\n",
        "\n",
        "acc_ax.plot(hist2.history['accuracy'], 'b', label='train acc')\n",
        "acc_ax.plot(hist2.history['val_accuracy'], 'g', label='val acc')\n",
        "\n",
        "loss_ax.set_xlabel('epoch')\n",
        "loss_ax.set_ylabel('loss')\n",
        "acc_ax.set_ylabel('accuray')\n",
        "\n",
        "loss_ax.legend(loc='upper left')\n",
        "acc_ax.legend(loc='lower left')\n",
        "\n",
        "plt.show()"
      ],
      "execution_count": null,
      "outputs": [
        {
          "output_type": "display_data",
          "data": {
            "image/png": "[encoded data removed]",
            "text/plain": [
              "<Figure size 432x288 with 2 Axes>"
            ]
          },
          "metadata": {
            "needs_background": "light"
          }
        }
      ]
    },
    {
      "cell_type": "code",
      "metadata": {
        "id": "1PtSrMe-hu2h"
      },
      "source": [
        "# evaluate model\n",
        "score = model.evaluate(x_test, y_test, verbose = 1)\n",
        "print('test_loss:', score[0])\n",
        "print('test_acc:', score[1])\n",
        "\n",
        "model.save(\"cnn_mnist.h5\")"
      ],
      "execution_count": null,
      "outputs": []
    },
    {
      "cell_type": "code",
      "metadata": {
        "id": "M4mPOP_fEo35"
      },
      "source": [
        ""
      ],
      "execution_count": null,
      "outputs": []
    }
  ]
}