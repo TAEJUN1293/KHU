{
  "nbformat": 4,
  "nbformat_minor": 0,
  "metadata": {
    "colab": {
      "name": "Algorithm Project - Apriori Algorithm",
      "provenance": [],
      "collapsed_sections": []
    },
    "kernelspec": {
      "name": "python3",
      "display_name": "Python 3"
    },
    "language_info": {
      "name": "python"
    }
  },
  "cells": [
    {
      "cell_type": "code",
      "metadata": {
        "id": "CDz-EmrgtZis"
      },
      "source": [
        "Transactions = [\n",
        "    ['I1','I2','I5'],\n",
        "    ['I2','I4'],\n",
        "    ['I2','I3'],\n",
        "    ['I1','I2','I4'],\n",
        "    ['I1','I3'],\n",
        "    ['I2','I3'],\n",
        "    ['I1','I3'],\n",
        "    ['I1','I2','I3','I5'],\n",
        "    ['I1','I2','I3']]\n",
        "order = [\"I\" + str(i) for i in range(1,6)]\n",
        "min_support = 2/9\n",
        "min_conf = 0.3\n",
        "num_trans = len(Transactions)"
      ],
      "execution_count": null,
      "outputs": []
    },
    {
      "cell_type": "code",
      "metadata": {
        "id": "ouIDnvLhtZaR"
      },
      "source": [
        "# C1 생성\n",
        "C = {}\n",
        "L = {}\n",
        "itemset_size = 1\n",
        "discard = {itemset_size : []}\n",
        "C.update({itemset_size : [[i] for i in order]})"
      ],
      "execution_count": null,
      "outputs": []
    },
    {
      "cell_type": "code",
      "metadata": {
        "id": "BH5eeUEay8hc"
      },
      "source": [
        "def count_occurences(itemset,Transactions):\n",
        "  count = 0\n",
        "  for i in range(len(Transactions)):\n",
        "    if set(itemset).issubset(set(Transactions[i])):\n",
        "      count += 1\n",
        "  return count"
      ],
      "execution_count": null,
      "outputs": []
    },
    {
      "cell_type": "code",
      "metadata": {
        "id": "l7IAzpvExiEP"
      },
      "source": [
        "def get_frequent(itemsets,Transactions,min_support,prev_dicard):\n",
        "  L = []\n",
        "  supp_count = []\n",
        "  new_discard = []\n",
        "  num_trans = len(Transactions)\n",
        "  k = len(prev_discard.keys())\n",
        "  \n",
        "  for s in range(len(itemsets)):\n",
        "    dicard_before = False\n",
        "    if k > 0:\n",
        "      for it in prev_discard[k]:\n",
        "        if set(it).issubset(set(itemsets[s])):\n",
        "          discard_before = True\n",
        "          break\n",
        "    if not discard_before :\n",
        "      count = count_occurences(itemsets[s], Transactions)\n",
        "      if count/num_trans >= min_support:\n",
        "        L.append(itemsets[s])\n",
        "        supp_count.append(count)\n",
        "      else:\n",
        "        new_discard.append(itemsets[s])\n",
        "  return L, supp_count,new_discard"
      ],
      "execution_count": null,
      "outputs": []
    },
    {
      "cell_type": "code",
      "metadata": {
        "id": "mW_wsAJAzmtw"
      },
      "source": [
        "def print_table(T, supp_count):\n",
        "  print(\"Itemset | Frequency\")\n",
        "  for k in range(len(T)):\n",
        "    print(\"{} : {}\".format(T[k], supp_count[k]))\n",
        "  print(\"\\n\\n\")"
      ],
      "execution_count": null,
      "outputs": []
    },
    {
      "cell_type": "code",
      "metadata": {
        "colab": {
          "base_uri": "https://localhost:8080/",
          "height": 374
        },
        "id": "vd8QKlklvt-I",
        "outputId": "09beab65-496c-4d25-a6a7-00e086a3121d"
      },
      "source": [
        "# L1 생성 빈발항목집합. \n",
        "supp_count_L = {}\n",
        "get_frequent(C[itemset_size], Transactions, min_support, discard)\n",
        "discard.update({itemset_size : new_discard})\n",
        "L.update({itemset_size : f})\n",
        "supp_count_L.update({itemset_size : sup})"
      ],
      "execution_count": null,
      "outputs": [
        {
          "output_type": "error",
          "ename": "NameError",
          "evalue": "ignored",
          "traceback": [
            "\u001b[0;31m---------------------------------------------------------------------------\u001b[0m",
            "\u001b[0;31mNameError\u001b[0m                                 Traceback (most recent call last)",
            "\u001b[0;32m<ipython-input-29-058b1376ea7e>\u001b[0m in \u001b[0;36m<module>\u001b[0;34m()\u001b[0m\n\u001b[1;32m      1\u001b[0m \u001b[0;31m# L1 생성 빈발항목집합.\u001b[0m\u001b[0;34m\u001b[0m\u001b[0;34m\u001b[0m\u001b[0;34m\u001b[0m\u001b[0m\n\u001b[1;32m      2\u001b[0m \u001b[0msupp_count_L\u001b[0m \u001b[0;34m=\u001b[0m \u001b[0;34m{\u001b[0m\u001b[0;34m}\u001b[0m\u001b[0;34m\u001b[0m\u001b[0;34m\u001b[0m\u001b[0m\n\u001b[0;32m----> 3\u001b[0;31m \u001b[0mget_frequent\u001b[0m\u001b[0;34m(\u001b[0m\u001b[0mC\u001b[0m\u001b[0;34m[\u001b[0m\u001b[0mitemset_size\u001b[0m\u001b[0;34m]\u001b[0m\u001b[0;34m,\u001b[0m \u001b[0mTransactions\u001b[0m\u001b[0;34m,\u001b[0m \u001b[0mmin_support\u001b[0m\u001b[0;34m,\u001b[0m \u001b[0mdiscard\u001b[0m\u001b[0;34m)\u001b[0m\u001b[0;34m\u001b[0m\u001b[0;34m\u001b[0m\u001b[0m\n\u001b[0m\u001b[1;32m      4\u001b[0m \u001b[0mdiscard\u001b[0m\u001b[0;34m.\u001b[0m\u001b[0mupdate\u001b[0m\u001b[0;34m(\u001b[0m\u001b[0;34m{\u001b[0m\u001b[0mitemset_size\u001b[0m \u001b[0;34m:\u001b[0m \u001b[0mnew_discard\u001b[0m\u001b[0;34m}\u001b[0m\u001b[0;34m)\u001b[0m\u001b[0;34m\u001b[0m\u001b[0;34m\u001b[0m\u001b[0m\n\u001b[1;32m      5\u001b[0m \u001b[0mL\u001b[0m\u001b[0;34m.\u001b[0m\u001b[0mupdate\u001b[0m\u001b[0;34m(\u001b[0m\u001b[0;34m{\u001b[0m\u001b[0mitemset_size\u001b[0m \u001b[0;34m:\u001b[0m \u001b[0mf\u001b[0m\u001b[0;34m}\u001b[0m\u001b[0;34m)\u001b[0m\u001b[0;34m\u001b[0m\u001b[0;34m\u001b[0m\u001b[0m\n",
            "\u001b[0;32m<ipython-input-27-36a2a202d972>\u001b[0m in \u001b[0;36mget_frequent\u001b[0;34m(itemsets, Transactions, min_support, prev_dicard)\u001b[0m\n\u001b[1;32m      4\u001b[0m   \u001b[0mnew_discard\u001b[0m \u001b[0;34m=\u001b[0m \u001b[0;34m[\u001b[0m\u001b[0;34m]\u001b[0m\u001b[0;34m\u001b[0m\u001b[0;34m\u001b[0m\u001b[0m\n\u001b[1;32m      5\u001b[0m   \u001b[0mnum_trans\u001b[0m \u001b[0;34m=\u001b[0m \u001b[0mlen\u001b[0m\u001b[0;34m(\u001b[0m\u001b[0mTransactions\u001b[0m\u001b[0;34m)\u001b[0m\u001b[0;34m\u001b[0m\u001b[0;34m\u001b[0m\u001b[0m\n\u001b[0;32m----> 6\u001b[0;31m   \u001b[0mk\u001b[0m \u001b[0;34m=\u001b[0m \u001b[0mlen\u001b[0m\u001b[0;34m(\u001b[0m\u001b[0mprev_discard\u001b[0m\u001b[0;34m.\u001b[0m\u001b[0mkeys\u001b[0m\u001b[0;34m(\u001b[0m\u001b[0;34m)\u001b[0m\u001b[0;34m)\u001b[0m\u001b[0;34m\u001b[0m\u001b[0;34m\u001b[0m\u001b[0m\n\u001b[0m\u001b[1;32m      7\u001b[0m \u001b[0;34m\u001b[0m\u001b[0m\n\u001b[1;32m      8\u001b[0m   \u001b[0;32mfor\u001b[0m \u001b[0ms\u001b[0m \u001b[0;32min\u001b[0m \u001b[0mrange\u001b[0m\u001b[0;34m(\u001b[0m\u001b[0mlen\u001b[0m\u001b[0;34m(\u001b[0m\u001b[0mitemsets\u001b[0m\u001b[0;34m)\u001b[0m\u001b[0;34m)\u001b[0m\u001b[0;34m:\u001b[0m\u001b[0;34m\u001b[0m\u001b[0;34m\u001b[0m\u001b[0m\n",
            "\u001b[0;31mNameError\u001b[0m: name 'prev_discard' is not defined"
          ]
        }
      ]
    },
    {
      "cell_type": "code",
      "metadata": {
        "colab": {
          "base_uri": "https://localhost:8080/",
          "height": 136
        },
        "id": "jAIRLOk6vt2R",
        "outputId": "263f398a-83cb-48bd-fa11-a4a33db03b08"
      },
      "source": [
        "k = itemset_size + 1\n",
        "convergence = False\n",
        "while not convergence:\n",
        "  C.update({k : join_set_itmesets(L[k-1], order)})\n",
        "  print(\"Table C{}: \\n\".format(k))\n",
        "  print_table(C[k],[count_occurences(it,Transactions)] for it in C[k])\n",
        "  f,sup,new_discarded = get_frequent(C[k], Transactions,min_support,discard)\n",
        "  L.update({k : f})\n",
        "  supp_count_L.update({k : sup})\n",
        "  if len(L[k]) == 0:\n",
        "    convergence = True\n",
        "  else:\n",
        "    print(\"Table L{}: \\n\".format(k))\n",
        "    print_Table(L[k], supp_count_L[k])\n",
        "  k += 1"
      ],
      "execution_count": null,
      "outputs": [
        {
          "output_type": "error",
          "ename": "SyntaxError",
          "evalue": "ignored",
          "traceback": [
            "\u001b[0;36m  File \u001b[0;32m\"<ipython-input-30-225f9253bb38>\"\u001b[0;36m, line \u001b[0;32m6\u001b[0m\n\u001b[0;31m    print_table(C[k],[count_occurences(it,Transactions)] for it in C[k])\u001b[0m\n\u001b[0m                    ^\u001b[0m\n\u001b[0;31mSyntaxError\u001b[0m\u001b[0;31m:\u001b[0m Generator expression must be parenthesized\n"
          ]
        }
      ]
    },
    {
      "cell_type": "code",
      "metadata": {
        "id": "PCV0YLmef1BD"
      },
      "source": [
        "from itertools import combinations, chain\n",
        "\n",
        "def powerset(iterable):\n",
        "  return list(chain.from_iterable(combinations(s, r) for r in range(1,len(s)+1)))"
      ],
      "execution_count": null,
      "outputs": []
    },
    {
      "cell_type": "code",
      "metadata": {
        "id": "s4hDo5yFsKMJ"
      },
      "source": [
        "def write_rules(X,X_S,S,conf,sup,lift,num_trans):\n",
        "  out_rules = ''\n",
        "  out_rules += \"Frequent_Itemset: {}\\n\".format(X)\n",
        "  out_rules += \"        Rule: {} -> {} \\n\".format(list(S,X-S))\n",
        "  out_rules += \"        Confidence: {0:2.3f}\".format(conf)\n",
        "  out_rules += \"        Support: {0:2.3f}\".format(sup)\n",
        "  out_rules += \"        Lift: {0:2.3f}\".format(lift)\n",
        "  return out_rules"
      ],
      "execution_count": null,
      "outputs": []
    },
    {
      "cell_type": "code",
      "metadata": {
        "id": "HmIXx1uusMUU"
      },
      "source": [
        "def apriori(L,k):\n",
        "  assciation_rule_count = ''\n",
        "  for i in range(1,len(L)):\n",
        "    for j in range(len(L[i])):\n",
        "      s = list(powerset(set(L[i][j])))\n",
        "      s.pop()\n",
        "      for z in s:\n",
        "        S = set(z)\n",
        "        X = set(L[i][j])\n",
        "        X_S = set(X-S)\n",
        "        sup_X = count_occurences(X, Transactions)\n",
        "        sup_X_S = count_occurences(X-S, Transactions)\n",
        "        conf = sup_X / count_occurences(S, Transactions)\n",
        "        lift = conf / (sup_X / num_trans)\n",
        "        if conf >= minconf and sup_X >= min_sup:\n",
        "          assciation_rule_count += write_rules(X,X-S,S,conf,sup_X,lift,num_trans)\n"
      ],
      "execution_count": null,
      "outputs": []
    },
    {
      "cell_type": "code",
      "metadata": {
        "colab": {
          "base_uri": "https://localhost:8080/",
          "height": 288
        },
        "id": "_c4YHfub0Ydt",
        "outputId": "07a6c8c1-26bb-461b-acd4-3bae469cb33d"
      },
      "source": [
        "apriori(Transactions,order)"
      ],
      "execution_count": null,
      "outputs": [
        {
          "output_type": "error",
          "ename": "NameError",
          "evalue": "ignored",
          "traceback": [
            "\u001b[0;31m---------------------------------------------------------------------------\u001b[0m",
            "\u001b[0;31mNameError\u001b[0m                                 Traceback (most recent call last)",
            "\u001b[0;32m<ipython-input-34-4360d360acf6>\u001b[0m in \u001b[0;36m<module>\u001b[0;34m()\u001b[0m\n\u001b[0;32m----> 1\u001b[0;31m \u001b[0mapriori\u001b[0m\u001b[0;34m(\u001b[0m\u001b[0mTransactions\u001b[0m\u001b[0;34m,\u001b[0m\u001b[0morder\u001b[0m\u001b[0;34m)\u001b[0m\u001b[0;34m\u001b[0m\u001b[0;34m\u001b[0m\u001b[0m\n\u001b[0m",
            "\u001b[0;32m<ipython-input-33-be4ccc96234b>\u001b[0m in \u001b[0;36mapriori\u001b[0;34m(L, k)\u001b[0m\n\u001b[1;32m      3\u001b[0m   \u001b[0;32mfor\u001b[0m \u001b[0mi\u001b[0m \u001b[0;32min\u001b[0m \u001b[0mrange\u001b[0m\u001b[0;34m(\u001b[0m\u001b[0;36m1\u001b[0m\u001b[0;34m,\u001b[0m\u001b[0mlen\u001b[0m\u001b[0;34m(\u001b[0m\u001b[0mL\u001b[0m\u001b[0;34m)\u001b[0m\u001b[0;34m)\u001b[0m\u001b[0;34m:\u001b[0m\u001b[0;34m\u001b[0m\u001b[0;34m\u001b[0m\u001b[0m\n\u001b[1;32m      4\u001b[0m     \u001b[0;32mfor\u001b[0m \u001b[0mj\u001b[0m \u001b[0;32min\u001b[0m \u001b[0mrange\u001b[0m\u001b[0;34m(\u001b[0m\u001b[0mlen\u001b[0m\u001b[0;34m(\u001b[0m\u001b[0mL\u001b[0m\u001b[0;34m[\u001b[0m\u001b[0mi\u001b[0m\u001b[0;34m]\u001b[0m\u001b[0;34m)\u001b[0m\u001b[0;34m)\u001b[0m\u001b[0;34m:\u001b[0m\u001b[0;34m\u001b[0m\u001b[0;34m\u001b[0m\u001b[0m\n\u001b[0;32m----> 5\u001b[0;31m       \u001b[0ms\u001b[0m \u001b[0;34m=\u001b[0m \u001b[0mlist\u001b[0m\u001b[0;34m(\u001b[0m\u001b[0mpowerset\u001b[0m\u001b[0;34m(\u001b[0m\u001b[0mset\u001b[0m\u001b[0;34m(\u001b[0m\u001b[0mL\u001b[0m\u001b[0;34m[\u001b[0m\u001b[0mi\u001b[0m\u001b[0;34m]\u001b[0m\u001b[0;34m[\u001b[0m\u001b[0mj\u001b[0m\u001b[0;34m]\u001b[0m\u001b[0;34m)\u001b[0m\u001b[0;34m)\u001b[0m\u001b[0;34m)\u001b[0m\u001b[0;34m\u001b[0m\u001b[0;34m\u001b[0m\u001b[0m\n\u001b[0m\u001b[1;32m      6\u001b[0m       \u001b[0ms\u001b[0m\u001b[0;34m.\u001b[0m\u001b[0mpop\u001b[0m\u001b[0;34m(\u001b[0m\u001b[0;34m)\u001b[0m\u001b[0;34m\u001b[0m\u001b[0;34m\u001b[0m\u001b[0m\n\u001b[1;32m      7\u001b[0m       \u001b[0;32mfor\u001b[0m \u001b[0mz\u001b[0m \u001b[0;32min\u001b[0m \u001b[0ms\u001b[0m\u001b[0;34m:\u001b[0m\u001b[0;34m\u001b[0m\u001b[0;34m\u001b[0m\u001b[0m\n",
            "\u001b[0;32m<ipython-input-31-7147ecb056c5>\u001b[0m in \u001b[0;36mpowerset\u001b[0;34m(iterable)\u001b[0m\n\u001b[1;32m      2\u001b[0m \u001b[0;34m\u001b[0m\u001b[0m\n\u001b[1;32m      3\u001b[0m \u001b[0;32mdef\u001b[0m \u001b[0mpowerset\u001b[0m\u001b[0;34m(\u001b[0m\u001b[0miterable\u001b[0m\u001b[0;34m)\u001b[0m\u001b[0;34m:\u001b[0m\u001b[0;34m\u001b[0m\u001b[0;34m\u001b[0m\u001b[0m\n\u001b[0;32m----> 4\u001b[0;31m   \u001b[0;32mreturn\u001b[0m \u001b[0mlist\u001b[0m\u001b[0;34m(\u001b[0m\u001b[0mchain\u001b[0m\u001b[0;34m.\u001b[0m\u001b[0mfrom_iterable\u001b[0m\u001b[0;34m(\u001b[0m\u001b[0mcombinations\u001b[0m\u001b[0;34m(\u001b[0m\u001b[0ms\u001b[0m\u001b[0;34m,\u001b[0m \u001b[0mr\u001b[0m\u001b[0;34m)\u001b[0m \u001b[0;32mfor\u001b[0m \u001b[0mr\u001b[0m \u001b[0;32min\u001b[0m \u001b[0mrange\u001b[0m\u001b[0;34m(\u001b[0m\u001b[0;36m1\u001b[0m\u001b[0;34m,\u001b[0m\u001b[0mlen\u001b[0m\u001b[0;34m(\u001b[0m\u001b[0ms\u001b[0m\u001b[0;34m)\u001b[0m\u001b[0;34m+\u001b[0m\u001b[0;36m1\u001b[0m\u001b[0;34m)\u001b[0m\u001b[0;34m)\u001b[0m\u001b[0;34m)\u001b[0m\u001b[0;34m\u001b[0m\u001b[0;34m\u001b[0m\u001b[0m\n\u001b[0m",
            "\u001b[0;31mNameError\u001b[0m: name 's' is not defined"
          ]
        }
      ]
    },
    {
      "cell_type": "code",
      "metadata": {
        "id": "VUMVHQNh0egW"
      },
      "source": [
        ""
      ],
      "execution_count": null,
      "outputs": []
    }
  ]
}