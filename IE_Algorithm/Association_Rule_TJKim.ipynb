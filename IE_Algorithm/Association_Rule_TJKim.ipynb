{
  "nbformat": 4,
  "nbformat_minor": 0,
  "metadata": {
    "colab": {
      "name": "sk_project",
      "provenance": [],
      "collapsed_sections": []
    },
    "kernelspec": {
      "name": "python3",
      "display_name": "Python 3"
    },
    "language_info": {
      "name": "python"
    }
  },
  "cells": [
    {
      "cell_type": "code",
      "metadata": {
        "colab": {
          "base_uri": "https://localhost:8080/"
        },
        "id": "tEsm34jP5Ft2",
        "outputId": "728d1ff9-3b6f-4b9e-84db-7f536da5508f"
      },
      "source": [
        "# 경우의 수(combination 사용)를 불러내기 위해 itertools 라이브러리 불러옴 \n",
        "import itertools \n",
        " \n",
        "# set자료형 사용이 핵심!\n",
        "# Apriori알고리즘 자체가 순서가 없다. 데이터는 편의대로 정렬해놓은것!\n",
        "class Apriori: # apriori 클래스 불러오기\n",
        "\n",
        "    # 변수명 불러오기\n",
        "    def __init__(self, input, min_support): \n",
        "        self.min_support = min_support\n",
        "        self.origin_set = input\n",
        "        self.distinct_list = self.distinct_input(input)\n",
        "        self.distinct_set = list(map(set,self.distinct_list))\n",
        "\n",
        "    #DataSet을 중복없이 나열하는 함수\n",
        "    #return { }\n",
        "    # 1,1,2,3,4,4,5 로 입력 시 [1,2,3,4,5]로 출력하게 만듬.\n",
        "    def distinct_input(self, input):\n",
        "        # { }은 set에 사용하는 기호지만 인수없이쓰면 dict로 인식한다\n",
        "        # 따라서 set()을 사용한다.\n",
        "        dataset = set()\n",
        "        for idx in list(input):\n",
        "            dataset.update(idx)\n",
        "        return list(dataset)\n",
        "\n",
        "    #DataSet의 모든 경우의수를 구하는 함수\n",
        "    #return []\n",
        "    def number_of_case_n(self, n, data):\n",
        "        n_list = list()\n",
        "        for subset in itertools.combinations(data, n):\n",
        "            n_list.append(subset)\n",
        "            \n",
        "        return list(map(frozenset, n_list))\n",
        "        # [frozenset[n_list]]\n",
        "                            \n",
        "    #빈도수를 구하는 함수\n",
        "    #원본데이터에서 경우의수를 구한데이터를 가지고 빈도수를 구한다.\n",
        "    #param n경우의수 step수 / data distinct_list\n",
        "    #return []\n",
        "    def get_freq(self,n):\n",
        "        freq_dic = dict()\n",
        "        case_list = self.number_of_case_n(n, self.distinct_list)\n",
        "        for j in list(input):\n",
        "            for i in list(case_list) :\n",
        "                if(j.issuperset(i)):\n",
        "                    if freq_dic.get(i, 0) == 0 :\n",
        "                        freq_dic[i] = 1\n",
        "                    else :\n",
        "                       freq_dic[i] += 1\n",
        "        return freq_dic\n",
        "        # >> 상품 종류 수 많을 수록 +1 해주는 빈도수 높이는 함수\n",
        "\n",
        "    #param : freq_dic\n",
        "    def rm_minsup(self, freq_dic):\n",
        "        cp_freq_dic = freq_dic.copy()\n",
        "        sum_val = len(cp_freq_dic.keys())\n",
        "        for i in list(cp_freq_dic.items()):     \n",
        "            if i[1] < self.min_support:\n",
        "                del cp_freq_dic[i[0]]   \n",
        "        return list(cp_freq_dic)\n",
        "        # 최소 지지도 보다 낮은 값 제거 \n",
        "\n",
        "    def apriori(self):\n",
        "        i = 1\n",
        "        step_result = None\n",
        "        while True:\n",
        "            step_result = list(map(set, self.rm_minsup(self.get_freq(i))))\n",
        "            self.distinct_list = self.distinct_input(step_result)\n",
        "            print(str(i) + \"단계\")\n",
        "            print(step_result)\n",
        "            \n",
        "            if len(step_result) <= 1:\n",
        "                break\n",
        "            if i >= 100:\n",
        "                break  \n",
        "            i += 1\n",
        "        # conf = [ a for a in input if a.issuperset(step_result[0])]\n",
        "        #최소지지도 : 전체 건수중에 3개 이상 포함되어있는 항목들이 무엇인지 => {2,5}\n",
        "        # print(self.min_support / len(input))\n",
        "        #신뢰도 : 전체 건수중에 포함되어있는 항목중에 2,5가 포함되어있는 건은 몇건인지 => 3건 \n",
        "        # print(len(conf) / len(input))\n",
        "\n",
        "if __name__== \"__main__\":\n",
        "    min_support = 2\n",
        "    input = [{'A', 'C', 'D'}, {'B', 'C', 'E'}, {'A', 'B', 'C', 'E'}, {'B', 'E'}]  \n",
        "    apriori = Apriori(input,min_support)\n",
        "    apriori.apriori()"
      ],
      "execution_count": null,
      "outputs": [
        {
          "output_type": "stream",
          "name": "stdout",
          "text": [
            "1단계\n",
            "[{'A'}, {'C'}, {'E'}, {'B'}]\n",
            "2단계\n",
            "[{'A', 'C'}, {'C', 'E'}, {'C', 'B'}, {'E', 'B'}]\n",
            "3단계\n",
            "[{'E', 'C', 'B'}]\n"
          ]
        }
      ]
    },
    {
      "cell_type": "code",
      "metadata": {
        "id": "K-abOTGW5HK0"
      },
      "source": [
        ""
      ],
      "execution_count": null,
      "outputs": []
    }
  ]
}