{
  "nbformat": 4,
  "nbformat_minor": 0,
  "metadata": {
    "colab": {
      "name": "State-Space Tree.ipynb",
      "provenance": [],
      "collapsed_sections": []
    },
    "kernelspec": {
      "name": "python3",
      "display_name": "Python 3"
    },
    "language_info": {
      "name": "python"
    }
  },
  "cells": [
    {
      "cell_type": "code",
      "execution_count": null,
      "metadata": {
        "id": "tgdB2pcCvuGy"
      },
      "outputs": [],
      "source": [
        "import sys\n",
        "import heapq"
      ]
    },
    {
      "cell_type": "markdown",
      "source": [
        "## State-space tree (상태공간트리)\n",
        "##### 1. Backtracking\n",
        "##### 2. Branch-and-bound\n",
        "##### 3. A* algorithm"
      ],
      "metadata": {
        "id": "-PJ_kbmAv9RM"
      }
    },
    {
      "cell_type": "markdown",
      "source": [
        "#### 1. Backtracking\n",
        "##### - DFS 또는 그와 유사한 스타일의 탐색을 총칭\n",
        "##### - 가능한 지점까지 탐색하다가 막히면 되돌아간다"
      ],
      "metadata": {
        "id": "Sdo-W7Y3wted"
      }
    },
    {
      "cell_type": "markdown",
      "source": [
        "#### (1) Maze 문제"
      ],
      "metadata": {
        "id": "XuruQkuq02AS"
      }
    },
    {
      "cell_type": "code",
      "source": [
        "Maze={'a':['c'], #start\n",
        "      'b':['c'],\n",
        "      'c':['b','e'],\n",
        "      'd':['e'],\n",
        "      'e':['f'],\n",
        "      'f':['e','g','h'],\n",
        "      'g':['f'],\n",
        "      'h':['f','i'],\n",
        "      'i':['h'], #target\n",
        "      'j':['k'],\n",
        "      'k':['h','j','l','m'],\n",
        "      'm':['k']\n",
        "      }"
      ],
      "metadata": {
        "id": "306TeY29tfl7"
      },
      "execution_count": null,
      "outputs": []
    },
    {
      "cell_type": "code",
      "source": [
        "def get_path(v):\n",
        "  print(v,end=' > ')\n",
        "  if prev[v]!=v:\n",
        "    get_path(prev[v])\n",
        "def maze1(v,T='i'): # ppt 방식\n",
        "  visited[v]=True\n",
        "  print(v)\n",
        "  if v==T:\n",
        "    print('성공!')\n",
        "    get_path(v)\n",
        "    sys.exit()\n",
        "  for x in Maze[v]:\n",
        "    if visited[x]==False:\n",
        "      prev[x]=v\n",
        "      maze1(x)\n",
        "visited={vertex:False for vertex in Maze}\n",
        "prev={vertex:vertex for vertex in Maze}\n",
        "maze1('a')\n",
        "print(prev)"
      ],
      "metadata": {
        "colab": {
          "base_uri": "https://localhost:8080/",
          "height": 337
        },
        "id": "PDJgtLFNu7mk",
        "outputId": "17f083de-e782-4841-91e7-13d07330bf11"
      },
      "execution_count": null,
      "outputs": [
        {
          "output_type": "stream",
          "name": "stdout",
          "text": [
            "a\n",
            "c\n",
            "b\n",
            "e\n",
            "f\n",
            "g\n",
            "h\n",
            "i\n",
            "성공!\n",
            "i > h > f > e > c > a > "
          ]
        },
        {
          "output_type": "error",
          "ename": "SystemExit",
          "evalue": "ignored",
          "traceback": [
            "An exception has occurred, use %tb to see the full traceback.\n",
            "\u001b[0;31mSystemExit\u001b[0m\n"
          ]
        },
        {
          "output_type": "stream",
          "name": "stderr",
          "text": [
            "/usr/local/lib/python3.7/dist-packages/IPython/core/interactiveshell.py:2890: UserWarning: To exit: use 'exit', 'quit', or Ctrl-D.\n",
            "  warn(\"To exit: use 'exit', 'quit', or Ctrl-D.\", stacklevel=1)\n"
          ]
        }
      ]
    },
    {
      "cell_type": "code",
      "source": [
        "def get_path(v):\n",
        "  print(v,end=\"\")\n",
        "  if prev[v]!=v:\n",
        "    print(\" > \",end=\"\")\n",
        "    get_path(prev[v])\n",
        "\n",
        "def maze2(v,T='i'): # 내 방식\n",
        "  print(v)\n",
        "  if v==T:\n",
        "    print(\"성공!\")\n",
        "    get_path(v)\n",
        "    sys.exit()\n",
        "  else:\n",
        "    for x in Maze[v]:\n",
        "      if visited[x]==False:\n",
        "        visited[x]=True\n",
        "        prev[x]=v\n",
        "        maze2(x)\n",
        "        visited[x]=False\n",
        "visited={vertex:False for vertex in Maze}\n",
        "prev={vertex:vertex for vertex in Maze}\n",
        "maze2('a')"
      ],
      "metadata": {
        "colab": {
          "base_uri": "https://localhost:8080/",
          "height": 337
        },
        "id": "frC0YdLmxpUW",
        "outputId": "731e9474-25e7-4430-d339-e47be063f6d0"
      },
      "execution_count": null,
      "outputs": [
        {
          "output_type": "stream",
          "name": "stdout",
          "text": [
            "a\n",
            "c\n",
            "b\n",
            "e\n",
            "f\n",
            "g\n",
            "h\n",
            "i\n",
            "성공!\n",
            "i > h > f > e > c > a"
          ]
        },
        {
          "output_type": "error",
          "ename": "SystemExit",
          "evalue": "ignored",
          "traceback": [
            "An exception has occurred, use %tb to see the full traceback.\n",
            "\u001b[0;31mSystemExit\u001b[0m\n"
          ]
        },
        {
          "output_type": "stream",
          "name": "stderr",
          "text": [
            "/usr/local/lib/python3.7/dist-packages/IPython/core/interactiveshell.py:2890: UserWarning: To exit: use 'exit', 'quit', or Ctrl-D.\n",
            "  warn(\"To exit: use 'exit', 'quit', or Ctrl-D.\", stacklevel=1)\n"
          ]
        }
      ]
    },
    {
      "cell_type": "markdown",
      "source": [
        "#### (2) Coloring 문제\n",
        "##### - 그래프에서 인접한 vertex는 같은 색을 칠할 수 없다고 할 때, k개의 색상을 사용해서 전체 graph를 칠할 수 있는가?"
      ],
      "metadata": {
        "id": "qDTEyXj308M7"
      }
    },
    {
      "cell_type": "code",
      "source": [
        "Map={1:[2,3,4],\n",
        "     2:[1,5],\n",
        "     3:[1,6],\n",
        "     4:[1,5,6],\n",
        "     5:[2,4,6],\n",
        "     6:[1,2,3,4,5]}"
      ],
      "metadata": {
        "id": "sh2-ZOyo1AYl"
      },
      "execution_count": null,
      "outputs": []
    },
    {
      "cell_type": "code",
      "source": [
        "def valid(i,c):\n",
        "  for j in range(1,i):\n",
        "    if j in Map[i] and color[j]==c:\n",
        "      return False\n",
        "  return True\n",
        "def kColoring(i,c):\n",
        "  if valid(i,c):\n",
        "    color[i]=c\n",
        "    if i==len(Map):\n",
        "      return True\n",
        "    else:\n",
        "      result=False\n",
        "      d=1\n",
        "      while result==False and d<=k:\n",
        "        result=kColoring(i+1,d)\n",
        "        d+=1\n",
        "      return result\n",
        "  else:\n",
        "    return False\n",
        "for k in range(1,7):\n",
        "  color={}\n",
        "  print(f'색상의 수:{k}\\n가능 여부: {kColoring(1,1)}')"
      ],
      "metadata": {
        "colab": {
          "base_uri": "https://localhost:8080/"
        },
        "id": "BPEEXDrG2Sae",
        "outputId": "8691e16c-2b89-476d-a911-7db0e0e3b11e"
      },
      "execution_count": null,
      "outputs": [
        {
          "output_type": "stream",
          "name": "stdout",
          "text": [
            "색상의 수:1\n",
            "가능 여부: False\n",
            "색상의 수:2\n",
            "가능 여부: False\n",
            "색상의 수:3\n",
            "가능 여부: True\n",
            "색상의 수:4\n",
            "가능 여부: True\n",
            "색상의 수:5\n",
            "가능 여부: True\n",
            "색상의 수:6\n",
            "가능 여부: True\n"
          ]
        }
      ]
    },
    {
      "cell_type": "markdown",
      "source": [
        "#### 2. Branch-and-Bound\n",
        "##### - Branch(분기)와 Bound(한정)을 결합\n",
        "##### - 분기를 한정시켜 쓸데 없는 시간 낭비를 줄임\n",
        "##### - Backtracking과 비교\n",
        "###### 공통점: 경우들을 차례로 나열하는 방법\n",
        "###### 차이점: Backtracking은 탐색하다가 더 이상 진행이 되지 않으면 되돌아가지만, Branch-and-Bound는 최적해를 찾을 가능성이 없으면 분기는 하지 않는 방식\n",
        "##### - 부모 노드의 자식 들 중 평가 함수의 하한이 가장 낮은 것(최소값 문제)을 새로운 부모 노드로 두고 지역 최적 값이 등장하면 이보다 하한 값이 큰 노드들은 분기하지 않음"
      ],
      "metadata": {
        "id": "atasAMydw9vj"
      }
    },
    {
      "cell_type": "markdown",
      "source": [
        "#### (1) Branch and Bound 기반 TSP 문제"
      ],
      "metadata": {
        "id": "p2OhIBOgaWVn"
      }
    },
    {
      "cell_type": "code",
      "source": [
        "INF=sys.maxsize\n",
        "TSP_map=[[INF,10,10,30,25],\n",
        "         [10,INF,14,21,10],\n",
        "         [10,18,INF,7,9],\n",
        "         [8,11,7,INF,3],\n",
        "         [14,10,10,3,INF]]"
      ],
      "metadata": {
        "id": "JeNB4a4I0uRb"
      },
      "execution_count": null,
      "outputs": []
    },
    {
      "cell_type": "code",
      "source": [
        "def Branch_and_Bound(r):\n",
        "  heap=[]\n",
        "  heapq.heappush(heap,(sum([min(TSP_map[i]) for i in range(len(TSP_map))]),[r]))\n",
        "  func=0\n",
        "  while heap:\n",
        "    tmp=heapq.heappop(heap)\n",
        "    if len(TSP_map)==len(tmp[1]):\n",
        "      func=tmp[0]\n",
        "      while heap:\n",
        "        bound=heapq.heappop(heap)\n",
        "        if bound[0]<=func:\n",
        "          heapq.heappush(heap,bound)\n",
        "          break\n",
        "    for i in range(len(TSP_map)):\n",
        "      if i not in tmp[1] or (len(tmp[1])==len(TSP_map) and i==0):\n",
        "        heapq.heappush(heap,(tmp[0]-min(TSP_map[tmp[1][-1]])+TSP_map[tmp[1][-1]][i],tmp[1]+[i]))\n",
        "  return tmp\n",
        "\n",
        "start=0\n",
        "result=Branch_and_Bound(start)\n",
        "print(f'최소값: {result[0]}\\n경로: {result[1]}')"
      ],
      "metadata": {
        "colab": {
          "base_uri": "https://localhost:8080/"
        },
        "id": "4szrZY7mBuYp",
        "outputId": "3e9dcefc-c983-4202-b8f3-4ae91b59c7fe"
      },
      "execution_count": null,
      "outputs": [
        {
          "output_type": "stream",
          "name": "stdout",
          "text": [
            "최소값: 40\n",
            "경로: [0, 1, 4, 3, 2, 0]\n"
          ]
        }
      ]
    },
    {
      "cell_type": "markdown",
      "source": [
        "#### 3. A* Algorithm\n",
        "##### #Best-First Search: 각 정점이 매력함수 값 g(x)을 가지며 방문하지 않은 정점들 중 매력함수 값이 가장 작은 것부터 방문\n",
        "##### - A* Algorithm은 Best-First Search에 목적점까지의 잔여추정거리 h(x)를 추가로 고려하는 알고리즘\n",
        "##### - 방문하지 않은 정점들 중 f(x)=g(x)+h(x) 값이 가장 작은 순으로 방문\n",
        "##### 이 때 정점 x부터 목적점에 이르는 잔여거리 h(x)는 실제 거리보다 커서는 안됨"
      ],
      "metadata": {
        "id": "LXzVb-_p0bzU"
      }
    },
    {
      "cell_type": "markdown",
      "source": [
        "#### (1) A* 기반 다익스트라 \n",
        "##### - 각 위치에서 행선지로의 추정 잔여 거리를 입력으로 받아야함"
      ],
      "metadata": {
        "id": "6nyfGYQfPMJc"
      }
    },
    {
      "cell_type": "code",
      "source": [
        "Graph3={'a':{'b':20},\n",
        "       'b':{'c':17},\n",
        "       'e':{'i':39,'h':25},\n",
        "       'c':{'a':10,'b':17,'d':30,'e':25,'f':23},\n",
        "       'd':{'a':19,'g':24},\n",
        "       'f':{'d':16,'e':28,'g':18},\n",
        "       'g':{'j':20},\n",
        "       'h':{'i':29},\n",
        "       'i':{'j':28},\n",
        "       'j':{'h':40}}"
      ],
      "metadata": {
        "id": "CQb6n-L_KVsi"
      },
      "execution_count": null,
      "outputs": []
    },
    {
      "cell_type": "code",
      "source": [
        "pred_Distance_x_to_T={'a':{'j':61},\n",
        "                      'b':{'j':68},\n",
        "                      'c':{'j':52},\n",
        "                      'd':{'j':40},\n",
        "                      'e':{'j':52},\n",
        "                      'f':{'j':34},\n",
        "                      'g':{'j':19},\n",
        "                      'h':{'j':39},\n",
        "                      'i':{'j':19},\n",
        "                      'j':{'j':0},\n",
        "                      }"
      ],
      "metadata": {
        "id": "VgnFfr6xSwc7"
      },
      "execution_count": null,
      "outputs": []
    },
    {
      "cell_type": "code",
      "source": [
        "def A_star_Dijkstra(start,T):\n",
        "  Dist={vertex : sys.maxsize for vertex in Graph3}\n",
        "  Dist[start]=0\n",
        "  heap=[]\n",
        "  heapq.heappush(heap,(Dist[start]+pred_Distance_x_to_T[start][T],Dist[start],start))\n",
        "  while heap:\n",
        "    tmp=heapq.heappop(heap)\n",
        "    print(tmp)\n",
        "    if tmp[2]==T:\n",
        "      return tmp[1]\n",
        "    if tmp[1]>Dist[tmp[2]]:\n",
        "      continue\n",
        "    for next_destnation in Graph3[tmp[2]]:\n",
        "      if Dist[next_destnation]>Dist[tmp[2]]+Graph3[tmp[2]][next_destnation]:\n",
        "        Dist[next_destnation]=Dist[tmp[2]]+Graph3[tmp[2]][next_destnation]\n",
        "        heapq.heappush(heap,(Dist[next_destnation]+pred_Distance_x_to_T[next_destnation][T],Dist[next_destnation],next_destnation))\n",
        "\n",
        "A_star_Dijkstra('c','j')\n"
      ],
      "metadata": {
        "colab": {
          "base_uri": "https://localhost:8080/"
        },
        "id": "6_gF27tGPlaE",
        "outputId": "04bb6edd-ce2f-493b-9783-81f41a325d5e"
      },
      "execution_count": null,
      "outputs": [
        {
          "output_type": "stream",
          "name": "stdout",
          "text": [
            "(52, 0, 'c')\n",
            "(57, 23, 'f')\n",
            "(60, 41, 'g')\n",
            "(61, 61, 'j')\n"
          ]
        },
        {
          "output_type": "execute_result",
          "data": {
            "text/plain": [
              "61"
            ]
          },
          "metadata": {},
          "execution_count": 38
        }
      ]
    }
  ]
}