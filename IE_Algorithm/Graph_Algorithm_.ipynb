{
  "nbformat": 4,
  "nbformat_minor": 0,
  "metadata": {
    "colab": {
      "name": "Graph Algorithm .ipynb",
      "provenance": [],
      "collapsed_sections": []
    },
    "kernelspec": {
      "name": "python3",
      "display_name": "Python 3"
    },
    "language_info": {
      "name": "python"
    }
  },
  "cells": [
    {
      "cell_type": "code",
      "metadata": {
        "id": "canfMwPH0NLb"
      },
      "source": [
        "import sys\n",
        "from collections import deque\n",
        "import heapq\n",
        "import numpy as np"
      ],
      "execution_count": null,
      "outputs": []
    },
    {
      "cell_type": "markdown",
      "metadata": {
        "id": "W0A77Jjw1t4K"
      },
      "source": [
        "##Graph 구현 방식\n",
        "#####1. Adjacency Matrix\n",
        "#####2. Adjacency List"
      ]
    },
    {
      "cell_type": "markdown",
      "metadata": {
        "id": "0a8cxy5y2eb5"
      },
      "source": [
        "#####1. Adjacency Matrix"
      ]
    },
    {
      "cell_type": "code",
      "metadata": {
        "id": "JjVvUg8t2cCq"
      },
      "source": [
        "Graph1=[[0,2,0,5,3],\n",
        "        [0,0,3,6,0],\n",
        "        [1,4,0,0,0],\n",
        "        [3,8,2,0,0],\n",
        "        [0,2,4,1,0]] # 정점 0,1,2,3,4 를 갖는 유향 가중치 그래프"
      ],
      "execution_count": null,
      "outputs": []
    },
    {
      "cell_type": "markdown",
      "metadata": {
        "id": "UqzbZ0PJ2_2Q"
      },
      "source": [
        "#####2. Adjacency List"
      ]
    },
    {
      "cell_type": "code",
      "metadata": {
        "id": "kYneG44M3DTJ"
      },
      "source": [
        "Graph2=[[(1,2),(3,5),(4,3)],\n",
        "        [(2,3),(3,6)],\n",
        "        [(0,1),(1,4)],\n",
        "        [(0,3),(1,8),(2,2)],\n",
        "        [(1,2),(2,4),(3,1)]] #Graph1과 동일한 그래프 "
      ],
      "execution_count": null,
      "outputs": []
    },
    {
      "cell_type": "markdown",
      "metadata": {
        "id": "oMQxk5am2IKA"
      },
      "source": [
        "##Graph Traversal(탐색)\n",
        "#####1. BFS\n",
        "#####2. DFS"
      ]
    },
    {
      "cell_type": "markdown",
      "metadata": {
        "id": "39CX8uA72PCh"
      },
      "source": [
        "#####1. BFS(반복문과 queue로 구현)"
      ]
    },
    {
      "cell_type": "code",
      "metadata": {
        "colab": {
          "base_uri": "https://localhost:8080/"
        },
        "id": "qtizNuHL2YAU",
        "outputId": "ca8ab3f2-8f17-4c85-a181-7ac84c92b52f"
      },
      "source": [
        "def BFS1(G,s):#Graph1(Adjacency Matrix) 탐색\n",
        "  visited=[False for i in range(5)]\n",
        "  visited[s]=True\n",
        "  que=deque([])\n",
        "  que.append(s)\n",
        "  while que:\n",
        "    u=que.popleft()\n",
        "    print(u)\n",
        "    for i in range(5):\n",
        "      if G[u][i]!=0 and visited[i]==False:\n",
        "        que.append(i)\n",
        "        visited[i]=True\n",
        "\n",
        "def BFS2(G,s): #Graph2(Adjacency List) 탐색\n",
        "  visited=[False for i in range(5)]\n",
        "  visited[s]=True\n",
        "  que=deque([])\n",
        "  que.append(s)\n",
        "  while que:\n",
        "    u=que.popleft()\n",
        "    print(u)\n",
        "    for i,v in G[u]:\n",
        "      if visited[i]==False:\n",
        "        que.append(i)\n",
        "        visited[i]=True\n",
        "\n",
        "BFS1(Graph1,0)\n",
        "print()\n",
        "BFS2(Graph2,0)"
      ],
      "execution_count": null,
      "outputs": [
        {
          "output_type": "stream",
          "name": "stdout",
          "text": [
            "0\n",
            "1\n",
            "3\n",
            "4\n",
            "2\n",
            "\n",
            "0\n",
            "1\n",
            "3\n",
            "4\n",
            "2\n"
          ]
        }
      ]
    },
    {
      "cell_type": "markdown",
      "metadata": {
        "id": "6ftv5r-H7TBO"
      },
      "source": [
        "#####2. DFS(재귀 함수 호출을 통해 구현)"
      ]
    },
    {
      "cell_type": "code",
      "metadata": {
        "colab": {
          "base_uri": "https://localhost:8080/"
        },
        "id": "LNdeyiI57ZfS",
        "outputId": "50a1af81-16b5-4d34-a6a0-69f2521cd1b1"
      },
      "source": [
        "visited=[False for v in range(5)]\n",
        "\n",
        "def DFS1(): #Graph1(Adjacency Matrix) 탐색\n",
        "  for v in range(5):\n",
        "    if visited[v]==False:\n",
        "      aDFS1(v)\n",
        "\n",
        "def aDFS1(v):\n",
        "  print(v)\n",
        "  visited[v]=True\n",
        "  for x in range(5):\n",
        "    if Graph1[v][x]!=0 and visited[x]==False:\n",
        "      aDFS1(x)\n",
        "\n",
        "\n",
        "def DFS2(): #Graph2(Adjacency List) 탐색\n",
        "  for v in range(5):\n",
        "    if visited[v]==False:\n",
        "      aDFS2(v)\n",
        "\n",
        "def aDFS2(v):\n",
        "  print(v)\n",
        "  visited[v]=True\n",
        "  for x,tmp in Graph2[v]:\n",
        "    if visited[x]==False:\n",
        "      aDFS2(x)\n",
        "\n",
        "DFS1()\n",
        "visited=[False for v in range(5)]\n",
        "print()\n",
        "DFS2()"
      ],
      "execution_count": null,
      "outputs": [
        {
          "output_type": "stream",
          "name": "stdout",
          "text": [
            "0\n",
            "1\n",
            "2\n",
            "3\n",
            "4\n",
            "\n",
            "0\n",
            "1\n",
            "2\n",
            "3\n",
            "4\n"
          ]
        }
      ]
    },
    {
      "cell_type": "markdown",
      "metadata": {
        "id": "9A8ZXtxm-qAH"
      },
      "source": [
        "##Minimum Spanning Trees (최소신장트리)\n",
        "#####문제조건\n",
        "#####- 무향 연결 그래프 (모든 정점 간에 경로가 존재하며 간선(Edge)에 방향이 없는 그래프\n",
        "#####- 트리란, 싸이클이 없는 연결 그래프. n개의 정점을 가진 트리는 항상 (n-1)개의 간선을 갖는다.\n",
        "#####- 그래프 G의 신장트리, G의 정점, 간선들로만 구성된 트리\n",
        "#####- 그래프 G의 최소신장트리, G의 신장트리들 중 간선의 가중치 합이 최소인 신장트리 "
      ]
    },
    {
      "cell_type": "code",
      "metadata": {
        "id": "GyQNGgYxA9yU"
      },
      "source": [
        "Graph=[[0 for i in range(7)]for j in range(7)]\n",
        "\n",
        "Graph[0][1],Graph[1][0]=8,8\n",
        "Graph[0][3],Graph[3][0]=9,9\n",
        "Graph[0][4],Graph[4][0]=11,11\n",
        "Graph[1][2],Graph[2][1]=10,10\n",
        "Graph[2][3],Graph[3][2]=5,5\n",
        "Graph[3][4],Graph[4][3]=13,13\n",
        "Graph[3][6],Graph[6][3]=12,12\n",
        "Graph[4][5],Graph[5][4]=8,8\n",
        "Graph[5][6],Graph[6][5]=7,7\n"
      ],
      "execution_count": null,
      "outputs": []
    },
    {
      "cell_type": "markdown",
      "metadata": {
        "id": "XqkganmR-wqO"
      },
      "source": [
        "#####1. Prim Algorithm\n",
        "#####- 일종의 Greedy Alg 로 볼 수 있음"
      ]
    },
    {
      "cell_type": "code",
      "metadata": {
        "colab": {
          "base_uri": "https://localhost:8080/"
        },
        "id": "gBOSZCQJ-2PH",
        "outputId": "84e78e59-2060-4ea6-ad1c-a2cf147f802a"
      },
      "source": [
        "def Prim(G,r):\n",
        "  V={v for v in range(len(G))}\n",
        "  s=set([])\n",
        "  visited=[False for i in range(len(G))]\n",
        "  visited[r]=True\n",
        "  s.add(r)\n",
        "  heap=[]\n",
        "  cost=0\n",
        "  for v in range(len(G)):\n",
        "    if G[r][v]!=0:\n",
        "      heapq.heappush(heap,(G[r][v],r,v))\n",
        "  while s!=V:\n",
        "    min_edge=heapq.heappop(heap)\n",
        "    if visited[min_edge[2]]:\n",
        "      continue\n",
        "    cost+=min_edge[0]\n",
        "    visited[min_edge[2]]=True\n",
        "    s.add(min_edge[2])\n",
        "    for v in (V-s):\n",
        "      if G[min_edge[2]][v]!=0:\n",
        "        heapq.heappush(heap,(G[min_edge[2]][v],min_edge[2],v))\n",
        "  return cost\n",
        "\n",
        "Prim(Graph,0)"
      ],
      "execution_count": null,
      "outputs": [
        {
          "output_type": "execute_result",
          "data": {
            "text/plain": [
              "48"
            ]
          },
          "metadata": {},
          "execution_count": 32
        }
      ]
    },
    {
      "cell_type": "markdown",
      "metadata": {
        "id": "3QzhmviEJWG7"
      },
      "source": [
        "#####2. Kruskal Algorithm\n",
        "#####- 일종의 Greedy Alg"
      ]
    },
    {
      "cell_type": "code",
      "metadata": {
        "colab": {
          "base_uri": "https://localhost:8080/"
        },
        "id": "xQvrluBUJeUO",
        "outputId": "ae5aba94-1e07-4ef5-f576-3c519441a45f"
      },
      "source": [
        "def find(parent,x): #정점 x의 조상을 찾음. 즉, 정점 x가 속한 집합을 찾는 함수\n",
        "  if parent[x]==x:\n",
        "    return x\n",
        "  else:\n",
        "    parent[x]=find(parent,parent[x])\n",
        "    return parent[x]\n",
        "\n",
        "def union(parent,a,b): #a정점과 b정점의 조상을 찾고 해당 조상의 조상을 일치시킴. 즉, 같은 집합으로 묶는 역할\n",
        "  rootA=find(parent,a)\n",
        "  rootB=find(parent,b)\n",
        "  if rootA<rootB:\n",
        "    parent[rootB]=rootA\n",
        "  else:\n",
        "    parent[rootA]=rootB\n",
        "\n",
        "def Kruskal(G):\n",
        "  parent=[v for v in range(len(G))]\n",
        "  edges=[]\n",
        "  cost=0\n",
        "  for y in range(len(G)):\n",
        "    for x in range(y,len(G)):\n",
        "      if G[y][x]!=0:\n",
        "        edges.append((G[y][x],y,x))\n",
        "  edges.sort()\n",
        "\n",
        "  for edge in edges:\n",
        "    c,a,b=edge\n",
        "    if find(parent,a)!=find(parent,b):\n",
        "      cost+=c\n",
        "      union(parent,a,b)\n",
        "  return cost\n",
        "\n",
        "Kruskal(Graph)\n",
        "  \n"
      ],
      "execution_count": null,
      "outputs": [
        {
          "output_type": "execute_result",
          "data": {
            "text/plain": [
              "48"
            ]
          },
          "metadata": {},
          "execution_count": 29
        }
      ]
    },
    {
      "cell_type": "markdown",
      "source": [
        "## Topological Sorting (위상 정렬)\n",
        "##### 문제 조건\n",
        "##### - 싸이클이 없는 유향 그래프\n",
        "##### - 모든 정점을 일렬로 나열하되 정점 x에서 정점 y로 가는 간선이 존재하면 x는 반드시 y보다 앞에 위치\n",
        "##### - 일반적으로 임의의 유향 그래프에 대해 복수의 위상정렬 해가 존재\n",
        "##### - 시간복잡도: Θ(|V|+|E|)"
      ],
      "metadata": {
        "id": "02__wpN0c-1I"
      }
    },
    {
      "cell_type": "code",
      "source": [
        "ramen_Graph={'냄비에물붓기':['점화'],\n",
        "        '라면봉지뜯기':['라면넣기','수프넣기'],\n",
        "        '점화':['계란풀어넣기','라면넣기','수프넣기'],\n",
        "        '라면넣기':['계란풀어넣기'],\n",
        "        '수프넣기':['계란풀어넣기'],\n",
        "        '계란풀어넣기':[]}"
      ],
      "metadata": {
        "id": "qZNR2D048cxg"
      },
      "execution_count": null,
      "outputs": []
    },
    {
      "cell_type": "code",
      "source": [
        "def topologicalSort1(G):# 방법 1 -> 진입 간선이 없는 것부터 \n",
        "  que=deque()\n",
        "  indegree={vertex:0 for vertex in G}\n",
        "  result=[]\n",
        "  for i in G:\n",
        "    for j in G:\n",
        "      if i in G[j]:\n",
        "        indegree[i]+=1\n",
        "  for i in indegree:\n",
        "    if indegree[i]==0:\n",
        "      que.append(i)\n",
        "  while que:\n",
        "    tmp=que.popleft()\n",
        "    result.append(tmp)\n",
        "    for i in G[tmp]:\n",
        "      indegree[i]-=1\n",
        "      if indegree[i]==0:\n",
        "        que.append(i)\n",
        "  return result\n",
        "\n",
        "\n",
        "topologicalSort1(ramen_Graph)"
      ],
      "metadata": {
        "colab": {
          "base_uri": "https://localhost:8080/"
        },
        "id": "_UgZY87wc3t4",
        "outputId": "7eb36ed4-31a9-4723-af23-bf2a47511ef2"
      },
      "execution_count": null,
      "outputs": [
        {
          "output_type": "execute_result",
          "data": {
            "text/plain": [
              "['냄비에물붓기', '라면봉지뜯기', '점화', '라면넣기', '수프넣기', '계란풀어넣기']"
            ]
          },
          "metadata": {},
          "execution_count": 66
        }
      ]
    },
    {
      "cell_type": "code",
      "source": [
        "def DFS_TS(G,v):\n",
        "  global result\n",
        "  visited[v]=True\n",
        "  for x in G[v]:\n",
        "    if visited[x]==False:\n",
        "      DFS_TS(G,x)\n",
        "  result=[v]+result\n",
        "def topologicalSort2(G): # 방법 2\n",
        "  for v in G:\n",
        "    if visited[v]==False:\n",
        "      DFS_TS(G,v)\n",
        "\n",
        "visited={i:False for i in ramen_Graph}\n",
        "result=[]\n",
        "topologicalSort2(ramen_Graph)\n",
        "result"
      ],
      "metadata": {
        "colab": {
          "base_uri": "https://localhost:8080/"
        },
        "id": "Hw2mAV-bc5HM",
        "outputId": "7fb39824-24c8-4653-ff98-0a743a0f8bdb"
      },
      "execution_count": null,
      "outputs": [
        {
          "output_type": "execute_result",
          "data": {
            "text/plain": [
              "['라면봉지뜯기', '냄비에물붓기', '점화', '수프넣기', '라면넣기', '계란풀어넣기']"
            ]
          },
          "metadata": {},
          "execution_count": 67
        }
      ]
    },
    {
      "cell_type": "markdown",
      "source": [
        "## Shortest Paths (최단 경로)\n",
        "##### 문제 조건\n",
        "##### - 간선 가중치가 있는 유향 그래프\n",
        "##### - 무향 그래프는 각 간선에 대해 양쪽으로 유향 간선이 있는 유향 그래프로 생각할 수 있음\n",
        "##### - 간선 가중치의 합이 음인 싸이클이 있으면 문제가 정의되지 않음 -> 해당경로를 계속 순회할 경우 최단 경로가 계속해서 개선됨(무한 루프)\n"
      ],
      "metadata": {
        "id": "xf1w3wZFfiYf"
      }
    },
    {
      "cell_type": "markdown",
      "source": [
        "#### 1. 단일 시작점 최단 경로\n",
        "##### - 단일 시작점으로부터 각 정점에 이르는 최단 경로"
      ],
      "metadata": {
        "id": "wapjs1NfIHIx"
      }
    },
    {
      "cell_type": "markdown",
      "source": [
        "##### a. Dijkstra Algorithm\n",
        "###### - 음의 가중치를 허용하지 않음 \n",
        "###### - 시간복잡도: Θ(|E|log|V|) ( 힙 이용 시)"
      ],
      "metadata": {
        "id": "zeovfyraIikU"
      }
    },
    {
      "cell_type": "code",
      "source": [
        "Graph={'a':{'b':8,'c':9,'d':11},\n",
        "       'b':{'e':10},\n",
        "       'c':{'b':6,'d':3,'e':1},\n",
        "       'd':{'f':8,'g':8},\n",
        "       'e':{'h':2},\n",
        "       'f':{'c':12,'h':5},\n",
        "       'g':{'f':7},\n",
        "       'h':{'g':4}}"
      ],
      "metadata": {
        "id": "0PnZ9-keI3Rq"
      },
      "execution_count": null,
      "outputs": []
    },
    {
      "cell_type": "code",
      "source": [
        "def extractMin(Q,d):\n",
        "  Min=sys.maxsize\n",
        "  Minkey=''\n",
        "  for i in Q:\n",
        "    if d[i]<Min:\n",
        "      Min=d[i]\n",
        "      Minkey=i\n",
        "  return Minkey\n",
        "\n",
        "def Dijkstra(G,r): # ppt 방식\n",
        "  V=set(G.keys())\n",
        "  S=set([])\n",
        "  Dist={vertex:sys.maxsize for vertex in G}\n",
        "  Dist[r]=0\n",
        "  while S!=V:\n",
        "    u=extractMin(V-S,Dist)\n",
        "    S.add(u)\n",
        "    for v in G[u]:\n",
        "      if v in V-S and Dist[v]>Dist[u]+G[u][v]:\n",
        "        Dist[v]=Dist[u]+G[u][v]\n",
        "  return Dist\n",
        "Dijkstra(Graph,'a')\n",
        "\n"
      ],
      "metadata": {
        "colab": {
          "base_uri": "https://localhost:8080/"
        },
        "id": "oYboewmEIneP",
        "outputId": "dacf27e4-76fc-4829-9887-8f2a0ec7eeec"
      },
      "execution_count": null,
      "outputs": [
        {
          "output_type": "execute_result",
          "data": {
            "text/plain": [
              "{'a': 0, 'b': 8, 'c': 9, 'd': 11, 'e': 10, 'f': 19, 'g': 16, 'h': 12}"
            ]
          },
          "metadata": {},
          "execution_count": 39
        }
      ]
    },
    {
      "cell_type": "code",
      "source": [
        "def Dijkstra2(G,r): # 내 방식\n",
        "  Dist={vertex:sys.maxsize for vertex in G}\n",
        "  Dist[r]=0\n",
        "  heap=[]\n",
        "  heapq.heappush(heap,(Dist[r],r))\n",
        "  while heap:\n",
        "    tmpdist,tmpV=heapq.heappop(heap)\n",
        "    if Dist[tmpV]<tmpdist:\n",
        "      continue\n",
        "    for next_destination,distance in G[tmpV].items():\n",
        "      new_distance=distance+Dist[tmpV]\n",
        "      if new_distance<Dist[next_destination]:\n",
        "        Dist[next_destination]=new_distance \n",
        "        heapq.heappush(heap,(Dist[next_destination],next_destination))\n",
        "  return Dist\n",
        "\n",
        "Dijkstra2(Graph,'a')"
      ],
      "metadata": {
        "colab": {
          "base_uri": "https://localhost:8080/"
        },
        "id": "50jDtvdKPu5_",
        "outputId": "6879bbb4-761f-4f10-9785-d4f52dcf80ab"
      },
      "execution_count": null,
      "outputs": [
        {
          "output_type": "execute_result",
          "data": {
            "text/plain": [
              "{'a': 0, 'b': 8, 'c': 9, 'd': 11, 'e': 10, 'f': 19, 'g': 16, 'h': 12}"
            ]
          },
          "metadata": {},
          "execution_count": 37
        }
      ]
    },
    {
      "cell_type": "markdown",
      "source": [
        "##### b. Bellman-Ford Algorithm\n",
        "###### - 음의 가중치는 허용하나, 음의 싸이클은 허용하지 않음\n",
        "###### - 시간복잡도: Θ(|E||V|)"
      ],
      "metadata": {
        "id": "-WgNgU5HIk2I"
      }
    },
    {
      "cell_type": "code",
      "source": [
        "Graph={'a':{'b':8,'c':11,'d':9},\n",
        "       'b':{'e':10},\n",
        "       'd':{'b':-15,'c':3,'e':1},\n",
        "       'c':{'f':8,'g':8},\n",
        "       'e':{'h':2},\n",
        "       'g':{'d':12,'h':5},\n",
        "       'f':{'g':-7},\n",
        "       'h':{'f':4}}"
      ],
      "metadata": {
        "id": "jCV0MF7YTt5m"
      },
      "execution_count": null,
      "outputs": []
    },
    {
      "cell_type": "code",
      "source": [
        "def BellmanFord(G,r):\n",
        "  Dist={vertex:sys.maxsize for vertex in G}\n",
        "  Dist[r]=0\n",
        "  for _ in range(len(G)-1):\n",
        "    for u in G:\n",
        "      for v in G[u]:\n",
        "        if Dist[u]+G[u][v]<Dist[v]:\n",
        "          Dist[v]=Dist[u]+G[u][v]\n",
        "  return Dist\n",
        "\n",
        "BellmanFord(Graph,'a')"
      ],
      "metadata": {
        "colab": {
          "base_uri": "https://localhost:8080/"
        },
        "id": "ewOl6GZJSIir",
        "outputId": "a9d9a0e6-42b8-4b9b-f70f-d136e2fe2538"
      },
      "execution_count": null,
      "outputs": [
        {
          "output_type": "execute_result",
          "data": {
            "text/plain": [
              "{'a': 0, 'b': -6, 'c': 11, 'd': 9, 'e': 4, 'f': 10, 'g': 3, 'h': 6}"
            ]
          },
          "metadata": {},
          "execution_count": 41
        }
      ]
    },
    {
      "cell_type": "markdown",
      "source": [
        "#### 2. 모든 쌍 최단 경로\n",
        "##### - 모든 정점 쌍 사이의 최단 경로를 모두 구함"
      ],
      "metadata": {
        "id": "mLX9RYDfIOTh"
      }
    },
    {
      "cell_type": "markdown",
      "source": [
        "##### a. Floyd-Warshall Algorithm\n",
        "##### - 시간복잡도: Θ(|V|^3)"
      ],
      "metadata": {
        "id": "a01JRyW4sPtm"
      }
    },
    {
      "cell_type": "code",
      "source": [
        "Graph=[[0,2,5,0,0],\n",
        "       [7,0,3,2,6],\n",
        "       [2,1,0,0,3],\n",
        "       [8,0,9,0,2],\n",
        "       [0,2,6,5,0]]"
      ],
      "metadata": {
        "id": "9i-d3HVPaYTe"
      },
      "execution_count": null,
      "outputs": []
    },
    {
      "cell_type": "code",
      "source": [
        "def FloydWarshall(G):\n",
        "  Dist=[[(G[i][j] if G[i][j]!=0 else 0 if i==j else sys.maxsize) for j in range(len(G))] for i in range(len(G))]\n",
        "  for k in range(len(G)):\n",
        "    for i in range(len(G)):\n",
        "      for j in range(len(G)):\n",
        "        Dist[i][j]=min(Dist[i][j],Dist[i][k]+Dist[k][j])\n",
        "  return Dist\n",
        "FloydWarshall(Graph)"
      ],
      "metadata": {
        "colab": {
          "base_uri": "https://localhost:8080/"
        },
        "id": "_YSBS3f2VR4i",
        "outputId": "6ab70cd6-ae24-427d-f6fc-53daded47fa0"
      },
      "execution_count": null,
      "outputs": [
        {
          "output_type": "execute_result",
          "data": {
            "text/plain": [
              "[[0, 2, 5, 4, 6],\n",
              " [5, 0, 3, 2, 4],\n",
              " [2, 1, 0, 3, 3],\n",
              " [8, 4, 7, 0, 2],\n",
              " [7, 2, 5, 4, 0]]"
            ]
          },
          "metadata": {},
          "execution_count": 48
        }
      ]
    },
    {
      "cell_type": "markdown",
      "source": [
        "#### 3. 싸이클이 없는 Graph(DAG)의 Shortest Path\n",
        "##### - 선형 시간 내 구할 수 있음\n",
        "##### - 시간복잡도: Θ(|V|+|E|)"
      ],
      "metadata": {
        "id": "1-KjF6JPIWJ6"
      }
    },
    {
      "cell_type": "code",
      "source": [
        "Graph={'a':{'b':7,'c':3,'d':5},\n",
        "       'b':{'d':1,'f':-2},\n",
        "       'c':{'f':4},\n",
        "       'd':{},\n",
        "       'e':{'a':6,'b':1},\n",
        "       'f':{'d':-3}}"
      ],
      "metadata": {
        "id": "ck_5ukwHkQns"
      },
      "execution_count": null,
      "outputs": []
    },
    {
      "cell_type": "code",
      "source": [
        "def topologicalSort(G):# 방법 1 -> 진입 간선이 없는 것부터 \n",
        "  que=deque()\n",
        "  indegree={vertex:0 for vertex in G}\n",
        "  result=[]\n",
        "  for i in G:\n",
        "    for j in G:\n",
        "      if i in G[j].keys():\n",
        "        indegree[i]+=1\n",
        "  for i in indegree:\n",
        "    if indegree[i]==0:\n",
        "      que.append(i)\n",
        "  while que:\n",
        "    tmp=que.popleft()\n",
        "    result.append(tmp)\n",
        "    for i in G[tmp]:\n",
        "      indegree[i]-=1\n",
        "      if indegree[i]==0:\n",
        "        que.append(i)\n",
        "  return result\n",
        "\n",
        "def DAG_ShortestPath(G,r):\n",
        "  Dist={vertex:sys.maxsize for vertex in G}\n",
        "  Dist[r]=0\n",
        "  sorted_G=topologicalSort(G)# 단, G는 딕셔너리\n",
        "  for u in sorted_G:\n",
        "    for v in G[u]:\n",
        "      if Dist[u]+G[u][v]<Dist[v]:\n",
        "        Dist[v]=Dist[u]+G[u][v]\n",
        "  return Dist\n",
        "\n",
        "DAG_ShortestPath(Graph,'a')"
      ],
      "metadata": {
        "colab": {
          "base_uri": "https://localhost:8080/"
        },
        "id": "v9iM1PcVIJ1u",
        "outputId": "339671a7-8e36-444c-c200-4115e38861c6"
      },
      "execution_count": null,
      "outputs": [
        {
          "output_type": "execute_result",
          "data": {
            "text/plain": [
              "{'a': 0, 'b': 7, 'c': 3, 'd': 2, 'e': 9223372036854775807, 'f': 5}"
            ]
          },
          "metadata": {},
          "execution_count": 69
        }
      ]
    },
    {
      "cell_type": "markdown",
      "source": [
        "#### Strongly Connected Components (강연결요소)\n",
        "##### - 그래프의 모든 정점쌍에 대해 양방향으로 경로가 존재하면 강하게 연결되었다고 함\n",
        "##### - 강하게 연결된 부분 그래프를 강연결요소라 칭함.\n",
        "##### - 시간복잡도: Θ(|V|+|E|)"
      ],
      "metadata": {
        "id": "2MdZE69urxN3"
      }
    },
    {
      "cell_type": "code",
      "source": [
        "Graph=[[0,1,1,1,0,0,0,0,0,0],\n",
        "       [0,0,0,0,1,0,0,0,0,0],\n",
        "       [0,0,0,0,0,1,1,0,0,0],\n",
        "       [0,0,1,0,1,0,0,0,0,0],\n",
        "       [0,0,0,0,0,0,0,1,0,0],\n",
        "       [0,0,0,0,0,0,0,0,0,1],\n",
        "       [0,0,0,1,0,1,0,0,0,0],\n",
        "       [0,0,0,0,0,0,1,0,0,0],\n",
        "       [0,0,0,0,0,1,0,0,0,0],\n",
        "       [0,0,0,0,0,0,0,0,1,0]]"
      ],
      "metadata": {
        "id": "6EORwx-3vrfE"
      },
      "execution_count": null,
      "outputs": []
    },
    {
      "cell_type": "code",
      "source": [
        "def DFS(G,r,c=0):\n",
        "  \n",
        "\n",
        "def stronglyConnectedComponent(G):\n",
        "  Fv=DFS(G,0)"
      ],
      "metadata": {
        "id": "V_8TWdy4ozf-"
      },
      "execution_count": null,
      "outputs": []
    }
  ]
}