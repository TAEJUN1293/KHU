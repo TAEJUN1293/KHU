{
  "nbformat": 4,
  "nbformat_minor": 0,
  "metadata": {
    "colab": {
      "name": "10.18 알고리즘 수업 (피보나치,조약돌)",
      "provenance": [],
      "collapsed_sections": []
    },
    "kernelspec": {
      "name": "python3",
      "display_name": "Python 3"
    },
    "language_info": {
      "name": "python"
    }
  },
  "cells": [
    {
      "cell_type": "code",
      "metadata": {
        "id": "TyTkTU9CCBP3"
      },
      "source": [
        "def fib(n):\n",
        "  if n == 1 or n==2:\n",
        "    return 1\n",
        "  else:\n",
        "    return fib(n-1) + fib(n-2)\n",
        "# >> 비효율적 (재귀호출로 인해)"
      ],
      "execution_count": null,
      "outputs": []
    },
    {
      "cell_type": "code",
      "metadata": {
        "colab": {
          "base_uri": "https://localhost:8080/"
        },
        "id": "ha8sGW83DAjx",
        "outputId": "be1d49fa-e4d3-49bf-e2a6-298818026f40"
      },
      "source": [
        "fib(5)"
      ],
      "execution_count": null,
      "outputs": [
        {
          "output_type": "execute_result",
          "data": {
            "text/plain": [
              "5"
            ]
          },
          "metadata": {},
          "execution_count": 11
        }
      ]
    },
    {
      "cell_type": "code",
      "metadata": {
        "id": "gzNgFDtlCPm8"
      },
      "source": [
        "def fibo(n):\n",
        "  f = [0] * (n+1)\n",
        "  f[1] = 1\n",
        "  f[2] = 1 \n",
        "  for i in range(3,n+1):\n",
        "    f[i] = f[i-1] + f[i-2]\n",
        "  return f[n]\n"
      ],
      "execution_count": null,
      "outputs": []
    },
    {
      "cell_type": "code",
      "metadata": {
        "colab": {
          "base_uri": "https://localhost:8080/"
        },
        "id": "rMPu0jSECRNt",
        "outputId": "6718b6b6-6aae-4755-f7a2-619dc27c22c2"
      },
      "source": [
        "fibo(5)"
      ],
      "execution_count": null,
      "outputs": [
        {
          "output_type": "execute_result",
          "data": {
            "text/plain": [
              "5"
            ]
          },
          "metadata": {},
          "execution_count": 16
        }
      ]
    },
    {
      "cell_type": "code",
      "metadata": {
        "colab": {
          "base_uri": "https://localhost:8080/"
        },
        "id": "BXm7CXfGCyMs",
        "outputId": "3cc7d0e4-2c23-4d82-c6ec-5736789ac0fa"
      },
      "source": [
        "# DP2\n",
        "\n",
        "f = [0] * (11+1)\n",
        "def fibo2(n):\n",
        "  if f[n] != 0 :\n",
        "    return f[n]\n",
        "  else:\n",
        "    if n == 1 or n==2:\n",
        "      f[n] = 1\n",
        "    else:\n",
        "      f[n]  = fibo2(n-1) + fibo2(n-2)\n",
        "  return f[n]\n",
        "fibo2(5) "
      ],
      "execution_count": null,
      "outputs": [
        {
          "output_type": "execute_result",
          "data": {
            "text/plain": [
              "5"
            ]
          },
          "metadata": {},
          "execution_count": 22
        }
      ]
    },
    {
      "cell_type": "code",
      "metadata": {
        "id": "aOkGxU1QHMiE"
      },
      "source": [
        "# w 행렬 배열 생성\n",
        "w = [\n",
        "[6, -8, -11, -5],\n",
        "[7, 10, 12, 19],\n",
        "[12, 14, 7, 19],\n",
        "[-5, 9, 4, -1],\n",
        "[5, 7, 8, 13],\n",
        "[3,13,-2,1],\n",
        "[11,8,9,20],\n",
        "[3,5,4,7]\n",
        "]"
      ],
      "execution_count": null,
      "outputs": []
    },
    {
      "cell_type": "code",
      "metadata": {
        "id": "GiIPlNKVEexz"
      },
      "source": [
        "# 재귀적 해법 \n",
        "def pebble(i, p):\n",
        "  if i == 0:\n",
        "    return w[0][p]\n",
        "  else:\n",
        "    max = -100\n",
        "    for q in range(0,4):\n",
        "      if check_possible(q, p):\n",
        "        tmp = pebble(i-1, q)\n",
        "        if tmp > max:\n",
        "          max = tmp\n",
        "    return w[i][p] + max\n",
        "  "
      ],
      "execution_count": null,
      "outputs": []
    },
    {
      "cell_type": "code",
      "metadata": {
        "id": "gcGKGcobJbsj"
      },
      "source": [
        "def pebble_sum(n):\n",
        "  max = -100\n",
        "  if pebble(n,0) > max:\n",
        "    max = pebble(n,0) \n",
        "  if pebble(n,1) > max:\n",
        "    max = pebble(n,1)\n",
        "  if pebble(n,2) > max:\n",
        "    max = pebble(n,2)\n",
        "  if pebble(n,3) > max:\n",
        "    max = pebble(n,3)\n",
        "  return max"
      ],
      "execution_count": null,
      "outputs": []
    },
    {
      "cell_type": "code",
      "metadata": {
        "colab": {
          "base_uri": "https://localhost:8080/"
        },
        "id": "bM5gvhTrJeY9",
        "outputId": "51e9dfd2-4b24-4f26-c35e-8734419f10bc"
      },
      "source": [
        "pebble_sum_bt(7)"
      ],
      "execution_count": null,
      "outputs": [
        {
          "output_type": "execute_result",
          "data": {
            "text/plain": [
              "95"
            ]
          },
          "metadata": {},
          "execution_count": 48
        }
      ]
    },
    {
      "cell_type": "code",
      "metadata": {
        "id": "P0Yw1bsCKHGq"
      },
      "source": [
        "# 패턴q가 패턴p랑 양립 \n",
        "def check_possible(q,p): # q,p = {0,1,2,3}\n",
        "  if p==0:\n",
        "    if q == 1 or q == 2 :\n",
        "       return True\n",
        "    else:\n",
        "      return False\n",
        "  if p == 1:\n",
        "    if q == 0 or q == 2 or q==3:\n",
        "      return True\n",
        "    else:\n",
        "      return False\n",
        "  if p == 2:\n",
        "    if q == 0 or q == 1:\n",
        "      return True\n",
        "    else:\n",
        "      return False\n",
        "  if p ==3:\n",
        "    if q == 1:\n",
        "      return True\n",
        "    else:\n",
        "      return False"
      ],
      "execution_count": null,
      "outputs": []
    },
    {
      "cell_type": "code",
      "metadata": {
        "id": "u3j2YisWLxmy"
      },
      "source": [
        ""
      ],
      "execution_count": null,
      "outputs": []
    },
    {
      "cell_type": "code",
      "metadata": {
        "id": "ycbP2Qd5Lm0l"
      },
      "source": [
        "# 재귀적 해법 with Top-down DP"
      ],
      "execution_count": null,
      "outputs": []
    },
    {
      "cell_type": "code",
      "metadata": {
        "id": "hXeF_8fDLSTB"
      },
      "source": [
        "peb = [[-1000,-1000,-1000,-1000]]*8\n",
        "def pebble_td(i, p):\n",
        "  if i == 0: \n",
        "    peb[0][p] = w[0][p]\n",
        "    return w[0][p]\n",
        "  else:\n",
        "    max = -100\n",
        "    for q in range(0,4):\n",
        "      if check_possible(q,p):\n",
        "        if peb[i-1][q] == -1000:\n",
        "          tmp = peb[i-1][q]\n",
        "        else:\n",
        "          tmp = pebble_td(i-1, q)\n",
        "          if tmp > max:\n",
        "            max = tmp\n",
        "    peb[i][p] = w[i][p] + max \n",
        "    return w[i][p] + max"
      ],
      "execution_count": null,
      "outputs": []
    },
    {
      "cell_type": "code",
      "metadata": {
        "id": "uOYecQ5JNOHT"
      },
      "source": [
        "def pebblesum_td(n):\n",
        "  max = -100\n",
        "  if pebble_td(n, 0) > max:\n",
        "    max = pebble_td(n, 0)\n",
        "  if pebble_td(n, 1) > max:\n",
        "    max = pebble_td(n,1)\n",
        "  if pebble_td(n, 2) > max:\n",
        "    max = pebble_td(n,2)\n",
        "  if pebble_td(n, 3) > max:\n",
        "    max = pebble_td(n,3)\n",
        "  return max\n"
      ],
      "execution_count": null,
      "outputs": []
    },
    {
      "cell_type": "code",
      "metadata": {
        "colab": {
          "base_uri": "https://localhost:8080/"
        },
        "id": "3x_Vyd8oNh3L",
        "outputId": "39e5111b-d1e8-4d4d-f615-817e06015413"
      },
      "source": [
        "pebble_sum_bt(7)"
      ],
      "execution_count": null,
      "outputs": [
        {
          "output_type": "execute_result",
          "data": {
            "text/plain": [
              "95"
            ]
          },
          "metadata": {},
          "execution_count": 63
        }
      ]
    },
    {
      "cell_type": "code",
      "metadata": {
        "id": "qLeUpuNUQdB1"
      },
      "source": [
        "# 재귀적 해법 - Bottomup 방식"
      ],
      "execution_count": null,
      "outputs": []
    },
    {
      "cell_type": "code",
      "metadata": {
        "id": "g7NF_pVxQmm-"
      },
      "source": [
        "# w 행렬 배열 생성\n",
        "w = [\n",
        "[6, -8, -11, -5],\n",
        "[7, 10, 12, 19],\n",
        "[12, 14, 7, 19],\n",
        "[-5, 9, 4, -1],\n",
        "[5, 7, 8, 13],\n",
        "[3,13,-2,1],\n",
        "[11,8,9,20],\n",
        "[3,5,4,7]\n",
        "]"
      ],
      "execution_count": null,
      "outputs": []
    },
    {
      "cell_type": "code",
      "metadata": {
        "id": "NXc0h8NENn45"
      },
      "source": [
        "peb = [\n",
        "[-1000,-1000,-1000,-1000]       \n",
        "]\n",
        "def pebble_bt(n):\n",
        "  for p in range(0,4):\n",
        "    peb[0][p] = w[0][p]\n",
        "  for i in range(2,n+1):\n",
        "    for p in range(0,4):\n",
        "      peb[i][p] = w[i][p] + max(peb[i-1][q])\n",
        "  return max(peb[n][p]) # p = 0,1,2,3"
      ],
      "execution_count": null,
      "outputs": []
    },
    {
      "cell_type": "code",
      "metadata": {
        "id": "oGhWQ4ZIOnNq"
      },
      "source": [
        "def pebble_sum_bt(n):\n",
        "  if pebble_bt(n,0) > max:\n",
        "    max = pebble_bt(n,0) \n",
        "  if pebble_bt(n,1) > max:\n",
        "    max = pebble_bt(n,1)\n",
        "  if pebble_bt(n,2) > max:\n",
        "    max = pebble_bt(n,2)\n",
        "  if pebble_bt(n,3) > max:\n",
        "    max = pebble_bt(n,3)\n",
        "  return max"
      ],
      "execution_count": null,
      "outputs": []
    },
    {
      "cell_type": "code",
      "metadata": {
        "id": "nueGWlPaRdKs",
        "colab": {
          "base_uri": "https://localhost:8080/",
          "height": 294
        },
        "outputId": "f5406264-4ec4-4578-d7be-2d623f61404b"
      },
      "source": [
        "pebble_sum_bt(7)"
      ],
      "execution_count": null,
      "outputs": [
        {
          "output_type": "error",
          "ename": "TypeError",
          "evalue": "ignored",
          "traceback": [
            "\u001b[0;31m---------------------------------------------------------------------------\u001b[0m",
            "\u001b[0;31mTypeError\u001b[0m                                 Traceback (most recent call last)",
            "\u001b[0;32m<ipython-input-58-c4dcb55562b2>\u001b[0m in \u001b[0;36m<module>\u001b[0;34m()\u001b[0m\n\u001b[0;32m----> 1\u001b[0;31m \u001b[0mpebble_sum_bt\u001b[0m\u001b[0;34m(\u001b[0m\u001b[0;36m7\u001b[0m\u001b[0;34m)\u001b[0m\u001b[0;34m\u001b[0m\u001b[0;34m\u001b[0m\u001b[0m\n\u001b[0m",
            "\u001b[0;32m<ipython-input-57-70f5acd040d1>\u001b[0m in \u001b[0;36mpebble_sum_bt\u001b[0;34m(n)\u001b[0m\n\u001b[1;32m      1\u001b[0m \u001b[0;32mdef\u001b[0m \u001b[0mpebble_sum_bt\u001b[0m\u001b[0;34m(\u001b[0m\u001b[0mn\u001b[0m\u001b[0;34m)\u001b[0m\u001b[0;34m:\u001b[0m\u001b[0;34m\u001b[0m\u001b[0;34m\u001b[0m\u001b[0m\n\u001b[0;32m----> 2\u001b[0;31m   \u001b[0;32mif\u001b[0m \u001b[0mpebble_bt\u001b[0m\u001b[0;34m(\u001b[0m\u001b[0mn\u001b[0m\u001b[0;34m,\u001b[0m\u001b[0;36m0\u001b[0m\u001b[0;34m)\u001b[0m \u001b[0;34m>\u001b[0m \u001b[0mmax\u001b[0m\u001b[0;34m:\u001b[0m\u001b[0;34m\u001b[0m\u001b[0;34m\u001b[0m\u001b[0m\n\u001b[0m\u001b[1;32m      3\u001b[0m     \u001b[0mmax\u001b[0m \u001b[0;34m=\u001b[0m \u001b[0mpebble_bt\u001b[0m\u001b[0;34m(\u001b[0m\u001b[0mn\u001b[0m\u001b[0;34m,\u001b[0m\u001b[0;36m0\u001b[0m\u001b[0;34m)\u001b[0m\u001b[0;34m\u001b[0m\u001b[0;34m\u001b[0m\u001b[0m\n\u001b[1;32m      4\u001b[0m   \u001b[0;32mif\u001b[0m \u001b[0mpebble_bt\u001b[0m\u001b[0;34m(\u001b[0m\u001b[0mn\u001b[0m\u001b[0;34m,\u001b[0m\u001b[0;36m1\u001b[0m\u001b[0;34m)\u001b[0m \u001b[0;34m>\u001b[0m \u001b[0mmax\u001b[0m\u001b[0;34m:\u001b[0m\u001b[0;34m\u001b[0m\u001b[0;34m\u001b[0m\u001b[0m\n\u001b[1;32m      5\u001b[0m     \u001b[0mmax\u001b[0m \u001b[0;34m=\u001b[0m \u001b[0mpebble_bt\u001b[0m\u001b[0;34m(\u001b[0m\u001b[0mn\u001b[0m\u001b[0;34m,\u001b[0m\u001b[0;36m1\u001b[0m\u001b[0;34m)\u001b[0m\u001b[0;34m\u001b[0m\u001b[0;34m\u001b[0m\u001b[0m\n",
            "\u001b[0;31mTypeError\u001b[0m: pebble_bt() takes 1 positional argument but 2 were given"
          ]
        }
      ]
    },
    {
      "cell_type": "code",
      "metadata": {
        "id": "4k7-Bx7J1F2g"
      },
      "source": [
        ""
      ],
      "execution_count": null,
      "outputs": []
    }
  ]
}