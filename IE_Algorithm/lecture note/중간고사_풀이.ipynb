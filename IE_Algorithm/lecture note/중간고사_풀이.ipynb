{
  "nbformat": 4,
  "nbformat_minor": 0,
  "metadata": {
    "colab": {
      "name": "중간고사 풀이",
      "provenance": [],
      "collapsed_sections": []
    },
    "kernelspec": {
      "name": "python3",
      "display_name": "Python 3"
    },
    "language_info": {
      "name": "python"
    }
  },
  "cells": [
    {
      "cell_type": "code",
      "metadata": {
        "id": "-d4BMndUuzkv"
      },
      "source": [
        "# 현재까지 수강한 산업경영공학과 교과목에서 등장한 알고리즘을 5개를 찾은 후에 \n",
        "# 각 알고리즘에 대하여 1)교과목명, 2) 알고리즘명, 3) 입력, 4)출력 5) 작동방식을 간략히 제시하시오\n"
      ],
      "execution_count": null,
      "outputs": []
    },
    {
      "cell_type": "code",
      "metadata": {
        "id": "rh5ZryJlvThh"
      },
      "source": [
        "# 2. 정렬 - 병합정렬의 시간복잡도가 세타 nlogn인 이유를 설명하시오 (구두로 설명)\n",
        "'''\n",
        "주어진 배열을 2등분 하는 과정이 병합정렬 n개의 1차원 배열이 주어진다면, \n",
        "n개의 비율로 쪼개진다. 병합되는 횟수 : n \n",
        "n이 커질수록 층이 넓어짐. \n",
        "\n",
        "쪼개지는 횟수 n-1번 >> n에 비례한다. \n",
        "병합되는 횟수 배열길이 n에 비례  \n",
        "\n",
        "답 ) 병합정렬은 배열을 절반씩 연속하여 분할한 후 각자 정렬 후 다시 병합하는방식이다. \n",
        "길이가 n인 배열을 리프노드로 이진 분할 하는 트리의 깊이는 log(n)이다. \n",
        "각 층에서 배열을 나누는데 걸리는 시간은 n에 비례하는 반면, \n",
        "각 층에서 두 배열을 병합하는 데 걸리는 시간은 그 층에 있는 모든 병합을 고려하면 배열의 길이 n에 비례한다.\n",
        "\n",
        "그러므로, 층의 깊이가 log(n)이고 각 층에서 걸리는 시간이 n에 비례하므로 병합하는 데 걸리는 시간은 n*log(N)이다. \n",
        "따라서 전체 알고리즘은 n*log(n)의 시간복잡도를 가진다. "
      ],
      "execution_count": null,
      "outputs": []
    },
    {
      "cell_type": "markdown",
      "metadata": {
        "id": "LNg8f6CzvvlE"
      },
      "source": [
        ""
      ]
    },
    {
      "cell_type": "code",
      "metadata": {
        "colab": {
          "base_uri": "https://localhost:8080/",
          "height": 87
        },
        "id": "mywh-yTAvcgS",
        "outputId": "aef662a8-fb84-467a-9190-8c39ae997110"
      },
      "source": [
        "# 3. 오늘 편의점에서 사탕 N개를 구입하였다. 동일하게 생긴 세 개의 선물봉지에 남기지 않고 모두 나눠담으려고한다. \n",
        "# 단 선물봉지 하나에는 1개이상의 사탕이 담겨있어야 하고 봉지에 담긴 사탕개수는 서로 달라도 무방.\n",
        "# N개의 사탕을 3개의 봉지에 나눠담은 방법은 총 몇가지가 있는지 출력하는 유사코드를 제시하시오.\n",
        "'''\n",
        "답) 세봉지에 담을 사탕개수를 a,b,c라 하자.\n",
        "\n",
        "a<= b<= c 라고 가정함으로써 봉지를 구분하지 않아도 되도록 가정하자. \n",
        "234 324 243 모두 a=2, b=3 c=4인 한가지로 표현가능. \n",
        "적어도 하나를 담아야 하므로 a,b,c,는 1이상 N-2 이하의 범위 내에 있다. \n",
        "\n",
        "find_bag(N):\n",
        "  count = 0\n",
        "  for a = 1 to N-2 \n",
        "    for b = a to N-2\n",
        "      for c = b to N-2\n",
        "        if a+b+c == N then\n",
        "          count++\n",
        "  return count\n",
        "find_bag(9)\n",
        "'''"
      ],
      "execution_count": null,
      "outputs": [
        {
          "output_type": "execute_result",
          "data": {
            "application/vnd.google.colaboratory.intrinsic+json": {
              "type": "string"
            },
            "text/plain": [
              "'\\n답) 세봉지에 담을 사탕개수를 a,b,c라 하자.\\n\\na<= b<= c 라고 가정함으로써 봉지를 구분하지 않아도 되도록 가정하자. \\n234 324 243 모두 a=2, b=3 c=4인 한가지로 표현가능. \\n적어도 하나를 담아야 하므로 a,b,c,는 1이상 N-2 이하의 범위 내에 있다. \\n\\nfind_bag(N):\\n  count = 0\\n  for a = 1 to N-2 \\n    for b = a to N-2\\n      for c = b to N-2\\n    if a+b+c == N then\\n        count++\\n  return count\\nfind_bag(9)\\n'"
            ]
          },
          "metadata": {},
          "execution_count": 5
        }
      ]
    },
    {
      "cell_type": "code",
      "metadata": {
        "colab": {
          "base_uri": "https://localhost:8080/"
        },
        "id": "w3__Wh7dx-Kd",
        "outputId": "72981934-a4c2-41af-a753-c9a2d97bb1a0"
      },
      "source": [
        "def find_bag(N):\n",
        "  count = 0 \n",
        "  a=[]\n",
        "  b=[]\n",
        "  c=[]\n",
        "  for a in range(1,N-1):\n",
        "    for b in range(a,N-1):\n",
        "      for c in range(b,N-1):\n",
        "        if a+b+c == N:\n",
        "          count += 1\n",
        "          print(a,b,c)\n",
        "  return count\n",
        "find_bag(9)"
      ],
      "execution_count": null,
      "outputs": [
        {
          "output_type": "stream",
          "name": "stdout",
          "text": [
            "1 1 7\n",
            "1 2 6\n",
            "1 3 5\n",
            "1 4 4\n",
            "2 2 5\n",
            "2 3 4\n",
            "3 3 3\n"
          ]
        },
        {
          "output_type": "execute_result",
          "data": {
            "text/plain": [
              "7"
            ]
          },
          "metadata": {},
          "execution_count": 9
        }
      ]
    },
    {
      "cell_type": "code",
      "metadata": {
        "colab": {
          "base_uri": "https://localhost:8080/",
          "height": 170
        },
        "id": "rtX7od4oyT1V",
        "outputId": "50d62ade-5232-45f4-e8d2-d309a452afa1"
      },
      "source": [
        "'''\n",
        "4. dp 베스킨라빈스 31 의 2인 게임 규칙은 아래와 같음. \n",
        "이를 확장하여 베스킨라빈스 X의 게임을 두명이 수행한다고 하자 \n",
        "마지막 X부르면 패배,k개까지 숫자를 부를 수 있음. k << X\n",
        "첫번쨰 시작하는 사람이 1부터 n까지 연속으로 n개를 부르면 항상 승리할 수 있는지를 판정하는 알고리즘을 dp로 유사코드를 제시하시오."
      ],
      "execution_count": null,
      "outputs": [
        {
          "output_type": "error",
          "ename": "SyntaxError",
          "evalue": "ignored",
          "traceback": [
            "\u001b[0;36m  File \u001b[0;32m\"<ipython-input-24-93829e0e8389>\"\u001b[0;36m, line \u001b[0;32m5\u001b[0m\n\u001b[0;31m    첫번쨰 시작하는 사람이 1부터 n까지 연속으로 n개를 부르면 항상 승리할 수 있는지를 판정하는 알고리즘을 dp로 유사코드를 제시하시오.\u001b[0m\n\u001b[0m                                                                               \n^\u001b[0m\n\u001b[0;31mSyntaxError\u001b[0m\u001b[0;31m:\u001b[0m EOF while scanning triple-quoted string literal\n"
          ]
        }
      ]
    },
    {
      "cell_type": "code",
      "metadata": {
        "colab": {
          "base_uri": "https://localhost:8080/"
        },
        "id": "1e7E3isa5RqR",
        "outputId": "1b2e2f4e-5006-4343-cb9a-97e1ad603b10"
      },
      "source": [
        "# X=10, K=3 인경우\n",
        "X = int(input())\n",
        "k = int(input())\n",
        "win = [None]*X # win[X] = X까지 숫자를 불렀을때 ,A가 필승할 여부\n",
        "win[X-1] = True # A가 하나 남길때까지 부르면 필승\n",
        "\n",
        "\n",
        "def is_A_winner(Y): # A가 숫자 Y까지 불렀을때 A가 승자인지 여부\n",
        "  if win[Y] == True: # A가 승리하는지 확인\n",
        "    return True\n",
        "  elif win[Y] ==False: # A가 승리하는지 확인 \n",
        "    return False\n",
        "  else:\n",
        "    for i in range(1,4): # B가 1,2,3,중 어느하나라도 불러서 승리가능한지 확인. \n",
        "      if win[Y+i] == True:\n",
        "        win[Y] = False\n",
        "        print('win[' +str(Y) + '] = False')\n",
        "        return False\n",
        "    \n",
        "\n",
        "  # B가 승리할 방법이 없을때 \n",
        "  # A가 추가로 1,2,3 중 어느 하나라도 불러서 승리가능한지 확인\n",
        "    for i in range(1,4):\n",
        "      if win[Y+i] == False:\n",
        "        win[Y] = True\n",
        "        print('win[' + str(Y) + '] = True')\n",
        "        return True \n",
        "    pass\n",
        "    \n",
        "    # 그것도 안되면 더 탐색 \n",
        "    # return is_A_winner(Y+i+j)\n",
        "    \n",
        "for i in range(9,-1,-1):\n",
        "  val = is_A_winner(i)\n",
        "  print(win)\n",
        "for i in range(10):\n",
        "  if win[i] == True:\n",
        "    print('A는', i,\"까지 부르면 필승.\")\n"
      ],
      "execution_count": null,
      "outputs": [
        {
          "output_type": "stream",
          "name": "stdout",
          "text": [
            "10\n",
            "3\n",
            "[None, None, None, None, None, None, None, None, None, True]\n",
            "win[8] = False\n",
            "[None, None, None, None, None, None, None, None, False, True]\n",
            "win[7] = False\n",
            "[None, None, None, None, None, None, None, False, False, True]\n",
            "win[6] = False\n",
            "[None, None, None, None, None, None, False, False, False, True]\n",
            "win[5] = True\n",
            "[None, None, None, None, None, True, False, False, False, True]\n",
            "win[4] = False\n",
            "[None, None, None, None, False, True, False, False, False, True]\n",
            "win[3] = False\n",
            "[None, None, None, False, False, True, False, False, False, True]\n",
            "win[2] = False\n",
            "[None, None, False, False, False, True, False, False, False, True]\n",
            "win[1] = True\n",
            "[None, True, False, False, False, True, False, False, False, True]\n",
            "win[0] = False\n",
            "[False, True, False, False, False, True, False, False, False, True]\n",
            "A는 1 까지 부르면 필승.\n",
            "A는 5 까지 부르면 필승.\n",
            "A는 9 까지 부르면 필승.\n"
          ]
        }
      ]
    },
    {
      "cell_type": "code",
      "metadata": {
        "colab": {
          "base_uri": "https://localhost:8080/",
          "height": 152
        },
        "id": "xm2HdmMdzG56",
        "outputId": "0a9bc614-9cc6-4fd2-bfa9-8db25bbcf639"
      },
      "source": [
        "'''\n",
        "5. 그래프알고리즘\n",
        "언덕등반기법은 평가함수를 증가시키는 방향으로 계속 탐색해가는 전략. \n",
        "즉 아래와 같은 트리 구조에서는 루트노드에서 출발하여 Edge의 가중치가 가장 높은 노드를 따라 리프노드까지 탐색하는 방식이다.\n",
        "예를 들어 a>c>f와 같이 탐색할 것이다. \n",
        "\n",
        "DFS(G)\n",
        "{\n",
        "  for each v > V \n",
        "    visited[v] < no\n",
        "  for each v > V \n",
        "    if(visited[v]=no) then aDFS(V);\n",
        "}\n",
        "\n",
        "HillClimbing(G, v)\n",
        "{\n",
        "  if L(v) != {} then\n",
        "    S(v) = sort_desc(L(v)) S(v) 는 정점 v의 인접 리스트 L\n",
        "  (v)의 내림차순 정렬 리스트\n",
        "    s = pop(S(v)) pop(S(v))는 S(v)의 첫번째 노드 추출\n",
        "\n",
        "  }"
      ],
      "execution_count": null,
      "outputs": [
        {
          "output_type": "error",
          "ename": "SyntaxError",
          "evalue": "ignored",
          "traceback": [
            "\u001b[0;36m  File \u001b[0;32m\"<ipython-input-11-973fa03d26f7>\"\u001b[0;36m, line \u001b[0;32m21\u001b[0m\n\u001b[0;31m    }\u001b[0m\n\u001b[0m     \n^\u001b[0m\n\u001b[0;31mSyntaxError\u001b[0m\u001b[0;31m:\u001b[0m EOF while scanning triple-quoted string literal\n"
          ]
        }
      ]
    },
    {
      "cell_type": "code",
      "metadata": {
        "colab": {
          "base_uri": "https://localhost:8080/"
        },
        "id": "ZE_80Gnsz7ED",
        "outputId": "3d377d00-c1f8-4dff-c60b-40b8a2f085fd"
      },
      "source": [
        "V = {'a','b','c','d','e','f','g'}\n",
        "E = {'a' : {'b':1, 'c':3}, 'b' : {'d':4, 'e':2},'c' : {'f':5, 'g':3}}\n",
        "G = (V, E)\n",
        "'''\n",
        "def DFS(G):\n",
        "  for v in V:\n",
        "    visited[v] = None\n",
        "  for v in V:\n",
        "    if visited[v] = None\n",
        "      return aDFS(V)\n",
        "'''\n",
        "def HillClimbing(v):\n",
        "  if E.__contains__(v):\n",
        "    s, val = find_max_node(E[v])\n",
        "    print(s, val)\n",
        "    HillClimbing(s)\n",
        "\n",
        "def find_max_node(dic): # a~b : 1 / a~c : 3 \n",
        "  max = -1000\n",
        "  for k in dic.keys():   # k=b,c\n",
        "    if dic[k] > max:   #dic[k] = 1, 3 \n",
        "      key = k\n",
        "      max = dic[k]\n",
        "  return key, max\n",
        "\n",
        "'''\n",
        "option 2 \n",
        "def find_max_npde(dic):\n",
        "  for key, value in dic.items():\n",
        "    if value > max:\n",
        "      s = key\n",
        "      max = value\n",
        "  return s, max\n",
        "\n",
        ">>>> 아래와 같이 풀이. \n",
        "def find_max_npde(dic):\n",
        "  if E.__contains__(v):\n",
        "    S = dict(sorted(E[v].items(), key = lambda x : x[1], reverse=True))\n",
        "    for s,val in S.items():\n",
        "      print(s,val)\n",
        "      HillCilmbing(s)\n",
        "\n",
        "'''     \n",
        "HillClimbing('a')\n",
        "\n",
        "\n"
      ],
      "execution_count": null,
      "outputs": [
        {
          "output_type": "stream",
          "name": "stdout",
          "text": [
            "c 3\n",
            "f 5\n",
            "None\n"
          ]
        }
      ]
    },
    {
      "cell_type": "code",
      "metadata": {
        "id": "nDclqd6e2t2P"
      },
      "source": [
        ""
      ],
      "execution_count": null,
      "outputs": []
    }
  ]
}