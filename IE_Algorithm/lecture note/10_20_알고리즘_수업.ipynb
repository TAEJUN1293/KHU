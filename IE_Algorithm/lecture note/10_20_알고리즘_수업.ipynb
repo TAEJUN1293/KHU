{
  "nbformat": 4,
  "nbformat_minor": 0,
  "metadata": {
    "colab": {
      "name": "10/20 알고리즘 수업",
      "provenance": [],
      "collapsed_sections": []
    },
    "kernelspec": {
      "name": "python3",
      "display_name": "Python 3"
    },
    "language_info": {
      "name": "python"
    }
  },
  "cells": [
    {
      "cell_type": "code",
      "metadata": {
        "id": "LScap4D43E3O"
      },
      "source": [
        "p =[10,100,5,50]\n",
        "def rMatrixChain(i,j):\n",
        "  if i == j :\n",
        "     return 0 \n",
        "  min = 987654321\n",
        "  for k in range(i,j):\n",
        "    q = rMatrixChain(i,k) + rMatrixChain(k+1,j) + p[i-1]*p[k]*p[j]\n",
        "    if q < min:\n",
        "      min = q\n",
        "  return min\n"
      ],
      "execution_count": null,
      "outputs": []
    },
    {
      "cell_type": "code",
      "metadata": {
        "colab": {
          "base_uri": "https://localhost:8080/"
        },
        "id": "aPcSUL0jDvWi",
        "outputId": "6d37a92c-95b0-4bc4-daa6-a7118af9976f"
      },
      "source": [
        "rMatrixChain(1,3)"
      ],
      "execution_count": null,
      "outputs": [
        {
          "output_type": "execute_result",
          "data": {
            "text/plain": [
              "7500"
            ]
          },
          "metadata": {},
          "execution_count": 4
        }
      ]
    },
    {
      "cell_type": "code",
      "metadata": {
        "id": "GcuhSf1G2QuF"
      },
      "source": [
        "p = [10,100,5,50]\n",
        "m = [[0 for _ in range(4)] for _ in range(4)]\n",
        "\n",
        "def matrixChain(n):\n",
        "  for i in range(1,n+1):\n",
        "    m[i][i] = 0\n",
        "  for r in range(1,n):\n",
        "    for i in range(1,n-r+1):\n",
        "      j = i+r\n",
        "      m[i][j] = 987654321\n",
        "      for k in range(i-1,j):\n",
        "        tmp = m[i][k] + m[k+1][j] + p[i-1]*p[k]*p[j] \n",
        "        if tmp < m[i][j]:\n",
        "          m[i][j] = tmp\n",
        "  return m[1][n]"
      ],
      "execution_count": null,
      "outputs": []
    },
    {
      "cell_type": "code",
      "metadata": {
        "colab": {
          "base_uri": "https://localhost:8080/"
        },
        "id": "oOwztKwnQZpw",
        "outputId": "c2fcbc0a-42df-4b03-99a7-a3c0707502ee"
      },
      "source": [
        "matrixChain(3)"
      ],
      "execution_count": null,
      "outputs": [
        {
          "output_type": "execute_result",
          "data": {
            "text/plain": [
              "7500"
            ]
          },
          "metadata": {},
          "execution_count": 30
        }
      ]
    },
    {
      "cell_type": "code",
      "metadata": {
        "colab": {
          "base_uri": "https://localhost:8080/"
        },
        "id": "fMhTsflHPXFx",
        "outputId": "2c5cf1d9-30ef-4939-bbed-5527acafcc1f"
      },
      "source": [
        "N = int(input())\n",
        "matrix = []\n",
        "for _ in range(N):\n",
        "    matrix.append(list(map(int, input().split())))\n",
        "dp =[[0 for _ in range(N)] for _ in range(N)] \n",
        "for i in range(1, N): #몇 번째 대각선?\n",
        "    for j in range(0, N-i): #대각선에서 몇 번째 열?\n",
        "        if i == 1: #차이가 1밖에 나지 않는 칸\n",
        "            dp[j][j+i] = matrix[j][0] * matrix[j][1] * matrix[j+i][1]\n",
        "            continue\n",
        "        dp[j][j+i] = 2**32 #최댓값을 미리 넣어줌\n",
        "        for k in range(j, j+i): \n",
        "            dp[j][j+i] = min(dp[j][j+i], \n",
        "                             dp[j][k] + dp[k+1][j+i] + matrix[j][0] * matrix[k][1] * matrix[j+i][1])\n",
        "                \n",
        "    \n",
        "print(dp[0][N-1]) "
      ],
      "execution_count": null,
      "outputs": [
        {
          "output_type": "stream",
          "name": "stdout",
          "text": [
            "3\n",
            "10 100\n",
            "100 5\n",
            "5 50\n",
            "7500\n"
          ]
        }
      ]
    },
    {
      "cell_type": "code",
      "metadata": {
        "id": "JkssG_TyPb3i"
      },
      "source": [
        "p = [10,100,5,50]\n",
        "m = [[0 for _ in range(4)] for _ in range(4)]\n",
        "\n",
        "def matrixChain(n):\n",
        "  for i in range(1,n+1):\n",
        "    m[i][i] = 0\n",
        "  for r in range(1,n):\n",
        "    for i in range(1,n-r+1):\n",
        "      j = i+r\n",
        "      m[i][j] = 987654321\n",
        "      for k in range(i-1,j):\n",
        "        tmp = m[i][k] + m[k+1][j] + p[i-1]*p[k]*p[j] \n",
        "        if tmp < m[i][j]:\n",
        "          m[i][j] = tmp\n",
        "  return m[1][n]\n",
        "           "
      ],
      "execution_count": null,
      "outputs": []
    },
    {
      "cell_type": "code",
      "metadata": {
        "colab": {
          "base_uri": "https://localhost:8080/"
        },
        "id": "6UZKh_iqR6lW",
        "outputId": "1027af76-352d-4d2b-89ec-cb557dbb6a18"
      },
      "source": [
        "matrixChain(3)   "
      ],
      "execution_count": null,
      "outputs": [
        {
          "output_type": "execute_result",
          "data": {
            "text/plain": [
              "7500"
            ]
          },
          "metadata": {},
          "execution_count": 8
        }
      ]
    },
    {
      "cell_type": "code",
      "metadata": {
        "id": "UZ_NYm20-U0m"
      },
      "source": [
        ""
      ],
      "execution_count": null,
      "outputs": []
    }
  ]
}