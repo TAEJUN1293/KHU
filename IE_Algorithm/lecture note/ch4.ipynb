{
  "nbformat": 4,
  "nbformat_minor": 0,
  "metadata": {
    "colab": {
      "name": "ch4.ipynb",
      "provenance": [],
      "collapsed_sections": []
    },
    "kernelspec": {
      "name": "python3",
      "display_name": "Python 3"
    },
    "language_info": {
      "name": "python"
    }
  },
  "cells": [
    {
      "cell_type": "markdown",
      "metadata": {
        "id": "WHqIt2OOfqas"
      },
      "source": [
        "# **Ch.4 (정렬) 예시**"
      ]
    },
    {
      "cell_type": "markdown",
      "metadata": {
        "id": "-tcS0m6QdXn2"
      },
      "source": [
        "**역순 range**\n",
        "* range(start, stop, step)\n",
        "* https://www.w3schools.com/python/ref_func_range.asp\n",
        "* 예) range(5, 0, -1) => [5,4,3,2,1] \n",
        "\n",
        "**역순 for 루프**\n",
        "* for i in range(5, 0, -1): 은\n",
        "* for i in [5,4,3,2,1]: 과 동일함\n",
        "\n",
        "\n"
      ]
    },
    {
      "cell_type": "code",
      "metadata": {
        "id": "_7V8tw8rtofx",
        "colab": {
          "base_uri": "https://localhost:8080/"
        },
        "outputId": "b69de5f6-0f2a-4bd0-9524-96b91a829186"
      },
      "source": [
        "# 역순 for문 예시\n",
        "for i in range(5, 0, -1):\n",
        "  print(i, end=' ')\n",
        "\n",
        "print()\n",
        "\n",
        "# 위와 동일\n",
        "for i in [5,4,3,2,1]:\n",
        "  print(i, end=' ')"
      ],
      "execution_count": null,
      "outputs": [
        {
          "output_type": "stream",
          "name": "stdout",
          "text": [
            "5 4 3 2 1 \n",
            "5 4 3 2 1 "
          ]
        }
      ]
    },
    {
      "cell_type": "markdown",
      "metadata": {
        "id": "isJbXA12gcal"
      },
      "source": [
        "**선택정렬(selction sort)**"
      ]
    },
    {
      "cell_type": "code",
      "metadata": {
        "id": "lIBtSwB5pvbA",
        "colab": {
          "base_uri": "https://localhost:8080/"
        },
        "outputId": "24abe943-003e-4e6a-c9f9-bf2008835fdc"
      },
      "source": [
        "def selectionSort(A):\n",
        "  n = len(A)\n",
        "  for last in range(n-1,0,-1):\n",
        "    max_val = max(A[:last])\n",
        "    k = A.index(max_val)\n",
        "    A[k], A[last] = A[last], A[k]\n",
        "    print(last, \":\", A)  # 회차별 결과 확인용\n",
        "  return A  #최종결과 반환용\n",
        "\n",
        "A = [3,7,2,5]\n",
        "A = selectionSort(A)"
      ],
      "execution_count": null,
      "outputs": [
        {
          "output_type": "stream",
          "name": "stdout",
          "text": [
            "3 : [3, 5, 2, 7]\n",
            "2 : [3, 2, 5, 7]\n",
            "1 : [2, 3, 5, 7]\n"
          ]
        }
      ]
    },
    {
      "cell_type": "code",
      "metadata": {
        "colab": {
          "base_uri": "https://localhost:8080/"
        },
        "id": "TiC8Dub2ovoj",
        "outputId": "25b42c41-3025-4f15-b808-97a4af6923e2"
      },
      "source": [
        "# 교재의 예시\n",
        "B = [29,10,14,37,13]\n",
        "B = selectionSort(B)"
      ],
      "execution_count": null,
      "outputs": [
        {
          "output_type": "stream",
          "name": "stdout",
          "text": [
            "4 : [29, 10, 14, 13, 37]\n",
            "3 : [13, 10, 14, 29, 37]\n",
            "2 : [14, 10, 13, 29, 37]\n",
            "1 : [10, 14, 13, 29, 37]\n"
          ]
        }
      ]
    },
    {
      "cell_type": "markdown",
      "metadata": {
        "id": "LkzoAiLageed"
      },
      "source": [
        "**버블정렬(bubble sort)**"
      ]
    },
    {
      "cell_type": "code",
      "metadata": {
        "colab": {
          "base_uri": "https://localhost:8080/"
        },
        "id": "wQG1eDj-wOaA",
        "outputId": "51c59e04-af47-42c7-d6ae-2eee55180ca1"
      },
      "source": [
        "def bubbleSort(A):\n",
        "  for last in range(len(A)-1, 0, -1):\n",
        "    for i in range(0, last):\n",
        "      if A[i] > A[i+1]:\n",
        "        A[i], A[i+1] = A[i+1], A[i]\n",
        "      print(\":\", A)      # 회차별 결과 확인용\n",
        "    print(last, \":\", A)  # 회차별 결과 확인용\n",
        "  return A  #최종결과 반환용\n",
        "\n",
        "A = [3,7,2,5]\n",
        "bubbleSort(A)"
      ],
      "execution_count": null,
      "outputs": [
        {
          "output_type": "stream",
          "name": "stdout",
          "text": [
            ": [3, 7, 2, 5]\n",
            ": [3, 2, 7, 5]\n",
            ": [3, 2, 5, 7]\n",
            "3 : [3, 2, 5, 7]\n",
            ": [2, 3, 5, 7]\n",
            ": [2, 3, 5, 7]\n",
            "2 : [2, 3, 5, 7]\n",
            ": [2, 3, 5, 7]\n",
            "1 : [2, 3, 5, 7]\n"
          ]
        },
        {
          "output_type": "execute_result",
          "data": {
            "text/plain": [
              "[2, 3, 5, 7]"
            ]
          },
          "metadata": {},
          "execution_count": 4
        }
      ]
    },
    {
      "cell_type": "code",
      "metadata": {
        "colab": {
          "base_uri": "https://localhost:8080/"
        },
        "id": "FaggEZX2r1_u",
        "outputId": "630f31da-70d4-4952-d1ee-909c9b983b26"
      },
      "source": [
        "# 교재의 예시\n",
        "B = [29,10,14,37,13]\n",
        "B = bubbleSort(B)"
      ],
      "execution_count": null,
      "outputs": [
        {
          "output_type": "stream",
          "name": "stdout",
          "text": [
            ": [10, 29, 14, 37, 13]\n",
            ": [10, 14, 29, 37, 13]\n",
            ": [10, 14, 29, 37, 13]\n",
            ": [10, 14, 29, 13, 37]\n",
            "4 : [10, 14, 29, 13, 37]\n",
            ": [10, 14, 29, 13, 37]\n",
            ": [10, 14, 29, 13, 37]\n",
            ": [10, 14, 13, 29, 37]\n",
            "3 : [10, 14, 13, 29, 37]\n",
            ": [10, 14, 13, 29, 37]\n",
            ": [10, 13, 14, 29, 37]\n",
            "2 : [10, 13, 14, 29, 37]\n",
            ": [10, 13, 14, 29, 37]\n",
            "1 : [10, 13, 14, 29, 37]\n"
          ]
        }
      ]
    },
    {
      "cell_type": "markdown",
      "metadata": {
        "id": "bNr0kTA3gjH9"
      },
      "source": [
        "**병합정렬(merge sort)**"
      ]
    },
    {
      "cell_type": "code",
      "metadata": {
        "colab": {
          "base_uri": "https://localhost:8080/"
        },
        "id": "T7QTx-hSqqDo",
        "outputId": "fd909172-57fb-4abd-fccb-d0f5263b4851"
      },
      "source": [
        "def mergeSort(A, p, r): # A:배열, p:시작index, r:종료index\n",
        "  if p < r:\n",
        "    q = int((p+r)/2)\n",
        "    mergeSort(A, p, q)\n",
        "    mergeSort(A, q+1, r)\n",
        "    merge(A, p, q, r)\n",
        "  return A  # 최종결과 반환용\n",
        "\n",
        "def merge(A, p, q, r): # q: 앞쪽 배열의 마지막 index\n",
        "  tmp = [0]*len(A)  #A의 길이만큼의 zero 배열 공간을 사전 생성 (<= 교재에 없는 라인)\n",
        "  i = p; j = q+1; t = 0\n",
        "  while (i <= q and j <= r):  # Python의 논리연산자는 and, or, not 입니다. (cf. &, |, ^가 아님) <= 수업시간에 교수님 실수한 부분\n",
        "    if A[i] <= A[j]:\n",
        "      tmp[t] = A[i]\n",
        "      t += 1; i += 1\n",
        "    else:\n",
        "      tmp[t] = A[j]\n",
        "      t += 1; j += 1\n",
        "  while i <= q:\n",
        "    tmp[t] = A[i]\n",
        "    t += 1; i += 1\n",
        "  while j <= r:\n",
        "    tmp[t] = A[j]\n",
        "    t += 1; j += 1\n",
        "  i = p; t = 0\n",
        "  while i <= r:\n",
        "    A[i] = tmp[t]\n",
        "    t += 1; i += 1\n",
        "  print(\"merge:\", tmp) # 병합 결과를 확인용\n",
        "\n",
        "A = [3,7,2,5]\n",
        "mergeSort(A, 0, len(A)-1)"
      ],
      "execution_count": null,
      "outputs": [
        {
          "output_type": "stream",
          "name": "stdout",
          "text": [
            "merge: [3, 7, 0, 0]\n",
            "merge: [2, 5, 0, 0]\n",
            "merge: [2, 3, 5, 7]\n"
          ]
        },
        {
          "output_type": "execute_result",
          "data": {
            "text/plain": [
              "[2, 3, 5, 7]"
            ]
          },
          "metadata": {},
          "execution_count": 6
        }
      ]
    },
    {
      "cell_type": "code",
      "metadata": {
        "colab": {
          "base_uri": "https://localhost:8080/"
        },
        "id": "4iwDvk5Gs6Tt",
        "outputId": "7497d970-9e79-4ce0-f01f-03adda059ac4"
      },
      "source": [
        "# 교재 예시\n",
        "B = [31,3,65,73,8,11,20,29,48,15]\n",
        "mergeSort(B, 0, len(B)-1)"
      ],
      "execution_count": null,
      "outputs": [
        {
          "output_type": "stream",
          "name": "stdout",
          "text": [
            "merge: [3, 31, 0, 0, 0, 0, 0, 0, 0, 0]\n",
            "merge: [3, 31, 65, 0, 0, 0, 0, 0, 0, 0]\n",
            "merge: [8, 73, 0, 0, 0, 0, 0, 0, 0, 0]\n",
            "merge: [3, 8, 31, 65, 73, 0, 0, 0, 0, 0]\n",
            "merge: [11, 20, 0, 0, 0, 0, 0, 0, 0, 0]\n",
            "merge: [11, 20, 29, 0, 0, 0, 0, 0, 0, 0]\n",
            "merge: [15, 48, 0, 0, 0, 0, 0, 0, 0, 0]\n",
            "merge: [11, 15, 20, 29, 48, 0, 0, 0, 0, 0]\n",
            "merge: [3, 8, 11, 15, 20, 29, 31, 48, 65, 73]\n"
          ]
        },
        {
          "output_type": "execute_result",
          "data": {
            "text/plain": [
              "[3, 8, 11, 15, 20, 29, 31, 48, 65, 73]"
            ]
          },
          "metadata": {},
          "execution_count": 7
        }
      ]
    },
    {
      "cell_type": "markdown",
      "metadata": {
        "id": "iwPeZlj4oR6X"
      },
      "source": [
        "**삽입정렬(Insertion Sort)**"
      ]
    },
    {
      "cell_type": "code",
      "metadata": {
        "id": "yCpjUoTij2vg",
        "colab": {
          "base_uri": "https://localhost:8080/"
        },
        "outputId": "a44a1809-6bf7-4062-a2d4-1d6b82e806b1"
      },
      "source": [
        "def insertionSort(A):\n",
        "  n = len(A)\n",
        "  for i in range(1,n):\n",
        "    loc = i-1\n",
        "    newitem = A[i]\n",
        "    while loc >=0 and newitem <A[loc]:\n",
        "      A[loc+1] = A[loc]\n",
        "      loc -= 1\n",
        "    A[loc+1] = newitem\n",
        "  return A\n",
        "A = [3,7,2,5]\n",
        "insertionSort(A)"
      ],
      "execution_count": null,
      "outputs": [
        {
          "output_type": "execute_result",
          "data": {
            "text/plain": [
              "[2, 3, 5, 7]"
            ]
          },
          "metadata": {},
          "execution_count": 1
        }
      ]
    },
    {
      "cell_type": "code",
      "metadata": {
        "colab": {
          "base_uri": "https://localhost:8080/"
        },
        "id": "El3f_DqUi2lq",
        "outputId": "99bad08b-22f7-46cf-960e-1bcb460d344e"
      },
      "source": [
        "def insertionSort(A):\n",
        "  print(A)\n",
        "  n = len(A)\n",
        "  for i in range(1, n):\n",
        "    loc = i-1\n",
        "    newItem = A[i]\n",
        "    while loc >= 0 and newItem < A[loc]:\n",
        "      A[loc+1] = A[loc]\n",
        "      loc -= 1\n",
        "    A[loc+1] = newItem\n",
        "    print(i, \":\", A)  # 회차별 결과 확인용\n",
        "  return A\n",
        "\n",
        "A = [3,7,2,5]\n",
        "insertionSort(A)"
      ],
      "execution_count": null,
      "outputs": [
        {
          "output_type": "stream",
          "name": "stdout",
          "text": [
            "[3, 7, 2, 5]\n",
            "1 : [3, 7, 2, 5]\n",
            "2 : [2, 3, 7, 5]\n",
            "3 : [2, 3, 5, 7]\n"
          ]
        },
        {
          "output_type": "execute_result",
          "data": {
            "text/plain": [
              "[2, 3, 5, 7]"
            ]
          },
          "metadata": {},
          "execution_count": 9
        }
      ]
    },
    {
      "cell_type": "code",
      "metadata": {
        "id": "PQCkZXCltKw1",
        "colab": {
          "base_uri": "https://localhost:8080/"
        },
        "outputId": "97fb2fd5-1207-45d6-bd26-aeda188b1628"
      },
      "source": [
        "B = [29,10,14,37,13]\n",
        "insertionSort(B)"
      ],
      "execution_count": null,
      "outputs": [
        {
          "output_type": "stream",
          "name": "stdout",
          "text": [
            "[29, 10, 14, 37, 13]\n",
            "1 : [10, 29, 14, 37, 13]\n",
            "2 : [10, 14, 29, 37, 13]\n",
            "3 : [10, 14, 29, 37, 13]\n",
            "4 : [10, 13, 14, 29, 37]\n"
          ]
        },
        {
          "output_type": "execute_result",
          "data": {
            "text/plain": [
              "[10, 13, 14, 29, 37]"
            ]
          },
          "metadata": {},
          "execution_count": 10
        }
      ]
    },
    {
      "cell_type": "markdown",
      "metadata": {
        "id": "HAq1SEwSn9e-"
      },
      "source": [
        "**퀵정렬(Quick Sort)**\n"
      ]
    },
    {
      "cell_type": "code",
      "metadata": {
        "id": "TfJQlsJBoHaF",
        "colab": {
          "base_uri": "https://localhost:8080/"
        },
        "outputId": "5b45fbfc-8df0-4f07-d4b1-6c8a0d348c23"
      },
      "source": [
        "def quickSort(A,p,r):\n",
        "  n = len(A)\n",
        "#  pass  # 다음 온라인 강의에서 다룰 부분. 관심있는 사람은 미리 해보세요.\n",
        "  if p < r:\n",
        "    q = partition(A,p,r)\n",
        "    quickSort(A,p,q-1) # 재귀적 호출 자기보다 작은 왼쪽\n",
        "    quickSort(A,q+1,r) # 재귀적 호출 자기보다 큰 오른쪽\n",
        "  return A\n",
        "\n",
        "def partition(A, p, r):\n",
        "  x = A[r]\n",
        "  i = p-1\n",
        "  for j in range(p,r):\n",
        "   if A[j] <= x:\n",
        "      i += 1 \n",
        "      A[i], A[j] = A[j], A[i]\n",
        "  A[i+1], A[r] = A[r], A[i+1]\n",
        "  return i+1\n",
        "  \n",
        "A = [3,7,2,5]\n",
        "quickSort(A, 0, len(A)-1)"
      ],
      "execution_count": null,
      "outputs": [
        {
          "output_type": "execute_result",
          "data": {
            "text/plain": [
              "[2, 3, 5, 7]"
            ]
          },
          "metadata": {},
          "execution_count": 7
        }
      ]
    },
    {
      "cell_type": "code",
      "metadata": {
        "colab": {
          "base_uri": "https://localhost:8080/"
        },
        "id": "iqWJK50amgwc",
        "outputId": "399894fd-ca28-4b62-add5-025b51b0ae63"
      },
      "source": [
        "def quickSort(A, p, r):\n",
        "  # print(A)\n",
        "  n = len(A)\n",
        "  if p<r:\n",
        "    q = partition(A, p, r)\n",
        "    quickSort(A, p, q-1)\n",
        "    quickSort(A, q+1, r)\n",
        "  return A\n",
        "\n",
        "def partition(A, p, r):\n",
        "  print(A[p:r+1], \"=>\", end=' ')\n",
        "  x = A[r]\n",
        "  i = p-1\n",
        "  for j in range(p, r-1+1):\n",
        "    if A[j] <= x:\n",
        "      i += 1\n",
        "      A[i], A[j] = A[j], A[i]\n",
        "  A[i+1], A[r] = A[r], A[i+1]\n",
        "  print(A[p:r+1], \"=>\", A)\n",
        "  return i+1\n",
        "\n",
        "A = [3,7,2,5]\n",
        "quickSort(A, 0, len(A)-1)"
      ],
      "execution_count": null,
      "outputs": [
        {
          "output_type": "stream",
          "name": "stdout",
          "text": [
            "[3, 7, 2, 5] => [3, 2, 5, 7] => [3, 2, 5, 7]\n",
            "[3, 2] => [2, 3] => [2, 3, 5, 7]\n"
          ]
        },
        {
          "output_type": "execute_result",
          "data": {
            "text/plain": [
              "[2, 3, 5, 7]"
            ]
          },
          "metadata": {},
          "execution_count": 4
        }
      ]
    },
    {
      "cell_type": "code",
      "metadata": {
        "id": "mB9v_Eznt84f",
        "colab": {
          "base_uri": "https://localhost:8080/"
        },
        "outputId": "07fc261b-3fbd-44a4-9de5-2f34c20b07a6"
      },
      "source": [
        "B = [31,8,48,73,11,3,20,29,65,15]\n",
        "quickSort(B, 0, len(B)-1)"
      ],
      "execution_count": null,
      "outputs": [
        {
          "output_type": "stream",
          "name": "stdout",
          "text": [
            "[31, 8, 48, 73, 11, 3, 20, 29, 65, 15] => [8, 11, 3, 15, 31, 48, 20, 29, 65, 73] => [8, 11, 3, 15, 31, 48, 20, 29, 65, 73]\n",
            "[8, 11, 3] => [3, 11, 8] => [3, 11, 8, 15, 31, 48, 20, 29, 65, 73]\n",
            "[11, 8] => [8, 11] => [3, 8, 11, 15, 31, 48, 20, 29, 65, 73]\n",
            "[31, 48, 20, 29, 65, 73] => [31, 48, 20, 29, 65, 73] => [3, 8, 11, 15, 31, 48, 20, 29, 65, 73]\n",
            "[31, 48, 20, 29, 65] => [31, 48, 20, 29, 65] => [3, 8, 11, 15, 31, 48, 20, 29, 65, 73]\n",
            "[31, 48, 20, 29] => [20, 29, 31, 48] => [3, 8, 11, 15, 20, 29, 31, 48, 65, 73]\n",
            "[31, 48] => [31, 48] => [3, 8, 11, 15, 20, 29, 31, 48, 65, 73]\n"
          ]
        },
        {
          "output_type": "execute_result",
          "data": {
            "text/plain": [
              "[3, 8, 11, 15, 20, 29, 31, 48, 65, 73]"
            ]
          },
          "metadata": {},
          "execution_count": 13
        }
      ]
    },
    {
      "cell_type": "markdown",
      "metadata": {
        "id": "mtEtBXBnn9Rf"
      },
      "source": [
        "**힙정렬(Heap Sort)**\n"
      ]
    },
    {
      "cell_type": "code",
      "metadata": {
        "id": "ZHyTDwQyoBJX",
        "colab": {
          "base_uri": "https://localhost:8080/"
        },
        "outputId": "88b3292b-e078-4dc1-d2fe-74fda201b537"
      },
      "source": [
        "def heapSort(A):\n",
        "  n = len(A)\n",
        "  buildHeap(A)\n",
        "  for i in range(n-1,0,-1):\n",
        "    A[0], A[i] = A[i], A[0]\n",
        "    heapify(A,0,i)\n",
        "  return A\n",
        "\n",
        "def buildHeap(A):\n",
        "  n = len(A)\n",
        "  for i in range(int(n/2-1),-1,-1):\n",
        "    heapify(A,i,n)\n",
        "\n",
        "def heapify(A, k, n): #heap의 범위 (n: heap의 총 개수)\n",
        "  left = 2*k; right = 2*k+1\n",
        "  if right <= n-1:\n",
        "    if A[left] < A[right]:\n",
        "      smaller = left\n",
        "    else:\n",
        "      smaller = right\n",
        "  elif left <= n-1:\n",
        "    smaller = left\n",
        "  else:\n",
        "    return \n",
        "\n",
        "  if A[smaller] < A[k]:\n",
        "    A[k], A[smaller] = A[smaller], A[k]\n",
        "    heapify(A,smaller,n)\n",
        "A = [3,7,2,5]\n",
        "heapSort(A)\n",
        "A.reverse()\n",
        "A"
      ],
      "execution_count": null,
      "outputs": [
        {
          "output_type": "execute_result",
          "data": {
            "text/plain": [
              "[2, 3, 5, 7]"
            ]
          },
          "metadata": {},
          "execution_count": 19
        }
      ]
    },
    {
      "cell_type": "code",
      "metadata": {
        "colab": {
          "base_uri": "https://localhost:8080/"
        },
        "id": "h1kiMAsDHaKl",
        "outputId": "55748d96-3278-4f6d-ccdb-8ba92343eb0b"
      },
      "source": [
        "def heapSort(A):\n",
        "  n = len(A)\n",
        "  buildHeap(A)\n",
        "  for i in range(n-1, 0, -1):\n",
        "    A[0], A[i] = A[i], A[0]\n",
        "    heapify(A, 0, i)\n",
        "    print(i, \":\", A)\n",
        "  return A\n",
        "\n",
        "def buildHeap(A):\n",
        "  n = len(A)\n",
        "  for i in range(int(n/2-1), -1, -1):\n",
        "    heapify(A, i, n)\n",
        "  print(\"buildHeap rusult : \", A)\n",
        "\n",
        "def heapify(A, k, n):\n",
        "  left = 2*k; right = 2*k+1\n",
        "  if right <= n-1:\n",
        "    if A[left] < A[right]:\n",
        "      smaller = left\n",
        "    else:\n",
        "      smaller = right\n",
        "  elif left <= n-1:\n",
        "    smaller = left\n",
        "  else:\n",
        "    return\n",
        "  \n",
        "  if A[smaller] < A[k]:\n",
        "    A[k], A[smaller] = A[smaller], A[k]\n",
        "    heapify(A, smaller, n)\n",
        "\n",
        "A = [3,7,2,5]\n",
        "heapSort(A)"
      ],
      "execution_count": null,
      "outputs": [
        {
          "output_type": "stream",
          "name": "stdout",
          "text": [
            "buildHeap rusult :  [2, 3, 7, 5]\n",
            "3 : [3, 5, 7, 2]\n",
            "2 : [5, 7, 3, 2]\n",
            "1 : [7, 5, 3, 2]\n"
          ]
        },
        {
          "output_type": "execute_result",
          "data": {
            "text/plain": [
              "[7, 5, 3, 2]"
            ]
          },
          "metadata": {},
          "execution_count": 15
        }
      ]
    },
    {
      "cell_type": "code",
      "metadata": {
        "id": "q7CUY8yjufuV",
        "colab": {
          "base_uri": "https://localhost:8080/"
        },
        "outputId": "c953fbb8-5ea7-4e40-e9ec-8b3a0350a752"
      },
      "source": [
        "B = [3,6,4,8,9,7]\n",
        "heapSort(B)"
      ],
      "execution_count": null,
      "outputs": [
        {
          "output_type": "stream",
          "name": "stdout",
          "text": [
            "buildHeap rusult :  [3, 4, 6, 8, 9, 7]\n",
            "5 : [4, 6, 7, 8, 9, 3]\n",
            "4 : [6, 7, 9, 8, 4, 3]\n",
            "3 : [7, 8, 9, 6, 4, 3]\n",
            "2 : [8, 9, 7, 6, 4, 3]\n",
            "1 : [9, 8, 7, 6, 4, 3]\n"
          ]
        },
        {
          "output_type": "execute_result",
          "data": {
            "text/plain": [
              "[9, 8, 7, 6, 4, 3]"
            ]
          },
          "metadata": {},
          "execution_count": 16
        }
      ]
    },
    {
      "cell_type": "markdown",
      "metadata": {
        "id": "VpMZcJlcDIdw"
      },
      "source": [
        "**기수정렬(Radix Sort)**\n",
        "\n",
        "교재의 유사코드로는 구현이 힘들므로 구현 생략.\n"
      ]
    },
    {
      "cell_type": "markdown",
      "metadata": {
        "id": "YihnBPMz90Ko"
      },
      "source": [
        "**계수정렬(Count Sort)**"
      ]
    },
    {
      "cell_type": "code",
      "metadata": {
        "colab": {
          "base_uri": "https://localhost:8080/"
        },
        "id": "9orPqAA1D5Wi",
        "outputId": "1fa6ea47-f20b-4f59-ca35-074f03d8ad26"
      },
      "source": [
        "def countingSort(A, k):\n",
        "  n = len(A)\n",
        "  B = [0] * len(A)\n",
        "  c = [0] * k\n",
        "  for j in range(0,n):\n",
        "    c[A[j]] += 1\n",
        "  for i in range(0,k):\n",
        "    c[i] += c[i-1]\n",
        "  for j in range(n-1,-1,-1):\n",
        "    B[c[A[j]]-1] = A[j]\n",
        "    c[A[j]] -= 1 \n",
        "  return B\n",
        "A = [3,7,2,5]\n",
        "countingSort(A, 10)"
      ],
      "execution_count": null,
      "outputs": [
        {
          "output_type": "execute_result",
          "data": {
            "text/plain": [
              "[2, 3, 5, 7]"
            ]
          },
          "metadata": {},
          "execution_count": 24
        }
      ]
    },
    {
      "cell_type": "code",
      "metadata": {
        "colab": {
          "base_uri": "https://localhost:8080/"
        },
        "id": "jlopfu4F93qZ",
        "outputId": "3a52f459-65e2-444b-c2ea-885e9785fd87"
      },
      "source": [
        "def countingSort(A, k):\n",
        "  B = [0] * len(A)\n",
        "  C = [0] * k  # 0부터 k-1까지 개수 카운트\n",
        "  n = len(A)\n",
        "\n",
        "  # for i in range(0, k):  # range(k)와 동일\n",
        "  #   C[i] = 0\n",
        "\n",
        "  for j in range(0, n):   # range(n)와 동일\n",
        "    C[A[j]] += 1\n",
        "  print(C)    # 개수 카운트 결과 출력\n",
        "\n",
        "  for i in range(0, k):\n",
        "    C[i] += C[i-1]\n",
        "  print(C)    # 개수 카운트 결과 출력\n",
        "\n",
        "  for j in range(n-1, -1, -1):\n",
        "    print(\"A[j] =\", A[j], end=', ')\n",
        "    print(\"C[A[j]] =\", C[A[j]], end=', ')\n",
        "    B[C[A[j]]-1] = A[j]\n",
        "    C[A[j]] -= 1\n",
        "    \n",
        "  return B\n",
        "\n",
        "A = [3,7,2,5]\n",
        "countingSort(A, 10)"
      ],
      "execution_count": null,
      "outputs": [
        {
          "output_type": "stream",
          "name": "stdout",
          "text": [
            "[0, 0, 1, 1, 0, 1, 0, 1, 0, 0]\n",
            "[0, 0, 1, 2, 2, 3, 3, 4, 4, 4]\n",
            "A[j] = 5, C[A[j]] = 3\n",
            "A[j] = 2, C[A[j]] = 1\n",
            "A[j] = 7, C[A[j]] = 4\n",
            "A[j] = 3, C[A[j]] = 2\n"
          ]
        },
        {
          "output_type": "execute_result",
          "data": {
            "text/plain": [
              "[2, 3, 5, 7]"
            ]
          },
          "metadata": {},
          "execution_count": 18
        }
      ]
    },
    {
      "cell_type": "code",
      "metadata": {
        "colab": {
          "base_uri": "https://localhost:8080/"
        },
        "id": "CLb__QiwDh6_",
        "outputId": "11ae00c6-f4ca-4539-b892-9b49f5139d46"
      },
      "source": [
        "B = [2, 1, 2, 4, 7, 3, 1, 2, 4]\n",
        "countingSort(B, 10)"
      ],
      "execution_count": null,
      "outputs": [
        {
          "output_type": "stream",
          "name": "stdout",
          "text": [
            "[0, 2, 3, 1, 2, 0, 0, 1, 0, 0]\n",
            "[0, 2, 5, 6, 8, 8, 8, 9, 9, 9]\n",
            "A[j] = 4, C[A[j]] = 8\n",
            "A[j] = 2, C[A[j]] = 5\n",
            "A[j] = 1, C[A[j]] = 2\n",
            "A[j] = 3, C[A[j]] = 6\n",
            "A[j] = 7, C[A[j]] = 9\n",
            "A[j] = 4, C[A[j]] = 7\n",
            "A[j] = 2, C[A[j]] = 4\n",
            "A[j] = 1, C[A[j]] = 1\n",
            "A[j] = 2, C[A[j]] = 3\n"
          ]
        },
        {
          "output_type": "execute_result",
          "data": {
            "text/plain": [
              "[1, 1, 2, 2, 2, 3, 4, 4, 7]"
            ]
          },
          "metadata": {},
          "execution_count": 19
        }
      ]
    }
  ]
}