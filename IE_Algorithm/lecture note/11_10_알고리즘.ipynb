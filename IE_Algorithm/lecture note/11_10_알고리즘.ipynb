{
  "nbformat": 4,
  "nbformat_minor": 0,
  "metadata": {
    "colab": {
      "name": "11/10 알고리즘",
      "provenance": [],
      "collapsed_sections": []
    },
    "kernelspec": {
      "name": "python3",
      "display_name": "Python 3"
    },
    "language_info": {
      "name": "python"
    }
  },
  "cells": [
    {
      "cell_type": "markdown",
      "metadata": {
        "id": "dSRu4UbGyBZG"
      },
      "source": [
        "# Graph Algorithm\n",
        "\n",
        "### 자료구조 역시 시간복잡도에 영향\n"
      ]
    },
    {
      "cell_type": "code",
      "metadata": {
        "colab": {
          "base_uri": "https://localhost:8080/",
          "height": 134
        },
        "id": "H6hPQcBix8CY",
        "outputId": "a40552ce-32ce-4248-916e-4b812d751c97"
      },
      "source": [
        "V = {0:'냄비', 1:'라면봉지', 2:'점화', 3:'라면넣기', 4:'수프넣기', 5:'계란풀기'}\n",
        "E = {0:[2], 1:[3,4], 2:[3,4,5], 3:[5], 4:[5]}\n",
        "\n",
        "G = (V,E)\n",
        "\n",
        "def topologicalSort1(G):\n",
        "  A = []  \n",
        "  indg = [0] * len(G)\n",
        "\n",
        "# 진입차수 리스트 생성\n",
        "  for i in range(len(G)):\n",
        "    for j in range(len(G)):\n",
        "      li = G[j]\n",
        "      for k in range(len(li)):\n",
        "        if li[k] = i:\n",
        "          indg[i] += 1\n",
        "   \n",
        "  for i in range(len(indg)):\n",
        "    if indg[i] == 0\n",
        "      A.append(i)\n",
        "  \n",
        "\n",
        "        \n",
        "    \n"
      ],
      "execution_count": null,
      "outputs": [
        {
          "output_type": "error",
          "ename": "SyntaxError",
          "evalue": "ignored",
          "traceback": [
            "\u001b[0;36m  File \u001b[0;32m\"<ipython-input-2-b0c20ad19df1>\"\u001b[0;36m, line \u001b[0;32m15\u001b[0m\n\u001b[0;31m    if li[k] = i:\u001b[0m\n\u001b[0m             ^\u001b[0m\n\u001b[0;31mSyntaxError\u001b[0m\u001b[0;31m:\u001b[0m invalid syntax\n"
          ]
        }
      ]
    },
    {
      "cell_type": "code",
      "metadata": {
        "colab": {
          "base_uri": "https://localhost:8080/"
        },
        "id": "mTQJTbXWByL0",
        "outputId": "6b9cde7f-942f-4ae3-839c-6cc044481ad2"
      },
      "source": [
        "# 교수님 풀이\n",
        "V = {0:'냄비', 1:'라면봉지', 2:'점화', 3:'라면넣기', 4:'수프넣기', 5:'계란풀기'}\n",
        "E = {0:[2], 1:[3,4], 2:[3,4,5], 3:[5], 4:[5]}\n",
        "G = (V,E)\n",
        "\n",
        "# 진입간선 구축\n",
        "E2 = {}\n",
        "for i in V.keys():\n",
        "  E2[i] = set()\n",
        "for i in E.keys():\n",
        "  for j in E[i]:\n",
        "    E2[j].add(i)\n",
        "E2"
      ],
      "execution_count": null,
      "outputs": [
        {
          "output_type": "execute_result",
          "data": {
            "text/plain": [
              "{0: set(), 1: set(), 2: {0}, 3: {1, 2}, 4: {1, 2}, 5: {2, 3, 4}}"
            ]
          },
          "metadata": {},
          "execution_count": 19
        }
      ]
    },
    {
      "cell_type": "code",
      "metadata": {
        "colab": {
          "base_uri": "https://localhost:8080/"
        },
        "id": "uPork5ffB9eB",
        "outputId": "6dd2ec31-1c02-47b0-f542-fd0e1fd33c18"
      },
      "source": [
        "import numpy as np\n",
        "\n",
        "K = np.mat([[0]*7]*7) #행, 열\n",
        "# k[A,B] -> a에서 B로 가는 진입간선\n",
        "# 열에서 행으로..\n",
        "# A=0, B=1, C=2, D=3, E=4, F=5, G=6\n",
        "K[0,1] = 1\n",
        "K[0,3] = 1\n",
        "K[1,2] = 1\n",
        "K[1,4] = 1\n",
        "K[3,4] = 1\n",
        "K[4,2] = 1\n",
        "K[4,5] = 1\n",
        "K[6,3] = 1\n",
        "\n",
        "G = ['a','b','c','d','e','f','g']\n",
        "\n",
        "print(K)\n",
        "\n",
        "def topologicalSort(G):\n",
        "    A = []\n",
        "    while(True):\n",
        "        for i in range(len(G)):\n",
        "            sum=0\n",
        "            for j in range(len(G)):\n",
        "                sum += K[j,i]\n",
        "            if sum ==0:\n",
        "                A.append(G[i])\n",
        "                for k in range(len(G)):\n",
        "                    K[i,k] =0\n",
        "                    K[k,i] =1\n",
        "        if (len(A)==len(G)):\n",
        "            break\n",
        "    return A\n",
        "\n",
        "print(\"위상 정렬 완료됨 : \",topologicalSort(G))\n"
      ],
      "execution_count": null,
      "outputs": [
        {
          "output_type": "stream",
          "name": "stdout",
          "text": [
            "[[0 1 0 1 0 0 0]\n",
            " [0 0 1 0 1 0 0]\n",
            " [0 0 0 0 0 0 0]\n",
            " [0 0 0 0 1 0 0]\n",
            " [0 0 1 0 0 1 0]\n",
            " [0 0 0 0 0 0 0]\n",
            " [0 0 0 1 0 0 0]]\n",
            "위상 정렬 완료됨 :  ['a', 'b', 'g', 'd', 'e', 'f', 'c']\n"
          ]
        }
      ]
    },
    {
      "cell_type": "code",
      "metadata": {
        "id": "2AcRv6USKxzq"
      },
      "source": [
        "s"
      ],
      "execution_count": null,
      "outputs": []
    }
  ]
}