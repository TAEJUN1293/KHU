{
  "nbformat": 4,
  "nbformat_minor": 0,
  "metadata": {
    "colab": {
      "name": "9/29 알고리즘",
      "provenance": [],
      "collapsed_sections": []
    },
    "kernelspec": {
      "name": "python3",
      "display_name": "Python 3"
    },
    "language_info": {
      "name": "python"
    }
  },
  "cells": [
    {
      "cell_type": "code",
      "metadata": {
        "colab": {
          "base_uri": "https://localhost:8080/"
        },
        "id": "6FNOsyQggeYz",
        "outputId": "c67a788a-79b6-47da-d009-c7242d62b48e"
      },
      "source": [
        "def sample2(A):\n",
        "  result = sum(A)\n",
        "  return result\n",
        "A = [3,7,2,5]\n",
        "num = sample2(A)\n",
        "print(num)"
      ],
      "execution_count": null,
      "outputs": [
        {
          "output_type": "stream",
          "name": "stdout",
          "text": [
            "17\n"
          ]
        }
      ]
    },
    {
      "cell_type": "code",
      "metadata": {
        "colab": {
          "base_uri": "https://localhost:8080/"
        },
        "id": "tRMRme3ThYEh",
        "outputId": "bfbd6302-c616-44b3-b8d2-df6e55702094"
      },
      "source": [
        "def sample2(A):\n",
        "  n = len(A)\n",
        "  sum = 0\n",
        "  for i in range(n):\n",
        "    for j in range(n):\n",
        "      sum =  sum + A[i]*A[j]\n",
        "  return sum\n",
        "\n",
        "A=[3,7,2,5,9]\n",
        "count = sample2(A)\n",
        "print(count)"
      ],
      "execution_count": null,
      "outputs": [
        {
          "output_type": "stream",
          "name": "stdout",
          "text": [
            "676\n"
          ]
        }
      ]
    },
    {
      "cell_type": "code",
      "metadata": {
        "colab": {
          "base_uri": "https://localhost:8080/"
        },
        "id": "Kvr2G8tDkInI",
        "outputId": "a2ea27f4-dfcc-4bda-a740-25efdc901373"
      },
      "source": [
        "import random\n",
        "def sample4(A):\n",
        "  sum = 0\n",
        "  for i in range(len(A)):\n",
        "    for j in range(len(A)):\n",
        "      for m in range(len(A)):\n",
        "        k = max(random.sample(A,len(A)//2))  \n",
        "        sum = sum + k\n",
        "  return sum\n",
        "A=[3,7,2,5]\n",
        "num = sample4(A)\n",
        "print(num)"
      ],
      "execution_count": null,
      "outputs": [
        {
          "output_type": "stream",
          "name": "stdout",
          "text": [
            "360\n"
          ]
        }
      ]
    },
    {
      "cell_type": "code",
      "metadata": {
        "colab": {
          "base_uri": "https://localhost:8080/"
        },
        "id": "XUtdZrkyk5Lc",
        "outputId": "ab1ef215-4c71-4c31-8814-11cd27b36a83"
      },
      "source": [
        "import random\n",
        "def sample4(A):\n",
        "  n = len(A)\n",
        "  sum = 0\n",
        "  for i in range(len(A)):\n",
        "    for j in range(len(A)):\n",
        "      for m in range(int(len(A)/2)):\n",
        "        n = random.randint(0,len(A)-1)\n",
        "        k = A[n]\n",
        "        print(i,j,m, \"random =\",n, k)\n",
        "        sum += k \n",
        "  return sum\n",
        "A =[3,2,7,5]\n",
        "num = sample4(A)\n",
        "print(num)\n"
      ],
      "execution_count": null,
      "outputs": [
        {
          "output_type": "stream",
          "name": "stdout",
          "text": [
            "0 0 0 random = 0 3\n",
            "0 0 1 random = 1 2\n",
            "0 1 0 random = 3 5\n",
            "0 1 1 random = 0 3\n",
            "0 2 0 random = 1 2\n",
            "0 2 1 random = 3 5\n",
            "0 3 0 random = 3 5\n",
            "0 3 1 random = 0 3\n",
            "1 0 0 random = 3 5\n",
            "1 0 1 random = 2 7\n",
            "1 1 0 random = 0 3\n",
            "1 1 1 random = 0 3\n",
            "1 2 0 random = 3 5\n",
            "1 2 1 random = 3 5\n",
            "1 3 0 random = 2 7\n",
            "1 3 1 random = 2 7\n",
            "2 0 0 random = 2 7\n",
            "2 0 1 random = 2 7\n",
            "2 1 0 random = 2 7\n",
            "2 1 1 random = 3 5\n",
            "2 2 0 random = 2 7\n",
            "2 2 1 random = 2 7\n",
            "2 3 0 random = 0 3\n",
            "2 3 1 random = 1 2\n",
            "3 0 0 random = 2 7\n",
            "3 0 1 random = 2 7\n",
            "3 1 0 random = 0 3\n",
            "3 1 1 random = 3 5\n",
            "3 2 0 random = 0 3\n",
            "3 2 1 random = 2 7\n",
            "3 3 0 random = 2 7\n",
            "3 3 1 random = 2 7\n",
            "161\n"
          ]
        }
      ]
    },
    {
      "cell_type": "code",
      "metadata": {
        "colab": {
          "base_uri": "https://localhost:8080/"
        },
        "id": "c0kCgDX5pPJZ",
        "outputId": "9947decf-5f59-45c4-d89c-c4f012266b61"
      },
      "source": [
        "def factorial(n):\n",
        "  if n == 1:\n",
        "    return 1\n",
        "  return n * factorial(n-1)\n",
        "\n",
        "k = factorial(5)\n",
        "k"
      ],
      "execution_count": null,
      "outputs": [
        {
          "output_type": "execute_result",
          "data": {
            "text/plain": [
              "120"
            ]
          },
          "metadata": {},
          "execution_count": 50
        }
      ]
    },
    {
      "cell_type": "code",
      "metadata": {
        "colab": {
          "base_uri": "https://localhost:8080/"
        },
        "id": "1DMMXVuopv55",
        "outputId": "d5adb6a4-efb3-48ca-82cf-c598b5a0bbec"
      },
      "source": [
        "def selection_Sort(A):\n",
        "  for last in range(len(A)-1):\n",
        "    k = last\n",
        "    for j in range(last+1, len(A)):\n",
        "      if A[j] < A[k]: \n",
        "        k = j\n",
        "    A[last], A[k] = A[k] , A[last]\n",
        "    \n",
        "A = [3,7,2,5,1,4]\n",
        "selection_Sort(A)\n",
        "A"
      ],
      "execution_count": null,
      "outputs": [
        {
          "output_type": "execute_result",
          "data": {
            "text/plain": [
              "[1, 2, 3, 4, 5, 7]"
            ]
          },
          "metadata": {},
          "execution_count": 59
        }
      ]
    },
    {
      "cell_type": "code",
      "metadata": {
        "colab": {
          "base_uri": "https://localhost:8080/"
        },
        "id": "cziz_j5qqqxm",
        "outputId": "103a2468-c7a9-4471-996e-b85f2d5c8c5a"
      },
      "source": [
        "# 맨뒤에 젤 큰 수가 오도록 \n",
        "def selection_sort(A):\n",
        "  for last in range(len(A)-1,0,-1):\n",
        "      k=A.index(max(A[j] for j in range(last+1)))\n",
        "      A[k],A[last] = A[last],A[k]\n",
        "A =[3,2,7,5]\n",
        "selection_sort(A)\n",
        "A"
      ],
      "execution_count": null,
      "outputs": [
        {
          "output_type": "execute_result",
          "data": {
            "text/plain": [
              "[2, 3, 5, 7]"
            ]
          },
          "metadata": {},
          "execution_count": 1
        }
      ]
    },
    {
      "cell_type": "code",
      "metadata": {
        "colab": {
          "base_uri": "https://localhost:8080/"
        },
        "id": "9fdJL6Jcu1Xp",
        "outputId": "d9a87b25-eaf3-493e-e866-1fe0a66e05c1"
      },
      "source": [
        "# 앞뒤순서 변경해가면서 정렬\n",
        "def bubble_sort(A):\n",
        "  for last in range(len(A)-1,0,-1):\n",
        "    for i in range(0,last):\n",
        "      if A[i] > A[i+1]:\n",
        "        A[i], A[i+1] = A[i+1], A[i]\n",
        "  return A\n",
        "A = [3,9,2,1]\n",
        "bubble_sort(A)\n",
        "A"
      ],
      "execution_count": null,
      "outputs": [
        {
          "output_type": "execute_result",
          "data": {
            "text/plain": [
              "[1, 2, 3, 9]"
            ]
          },
          "metadata": {},
          "execution_count": 69
        }
      ]
    },
    {
      "cell_type": "code",
      "metadata": {
        "colab": {
          "base_uri": "https://localhost:8080/"
        },
        "id": "AQRN6H47xcI-",
        "outputId": "f212d857-38d0-421f-fc78-5068c2a846fa"
      },
      "source": [
        "def insertionSort(A):\n",
        "  n = len(A)\n",
        "  for i in range(n-1,0,-1):\n",
        "    max_val = max(A[:i])\n",
        "    k = A.index(max_val)\n",
        "    A[k], A[i] = A[i], A[k]\n",
        "  return A\n",
        "A=[3,7,2,5]\n",
        "print(insertionSort(A))"
      ],
      "execution_count": null,
      "outputs": [
        {
          "output_type": "stream",
          "name": "stdout",
          "text": [
            "[2, 3, 5, 7]\n"
          ]
        }
      ]
    },
    {
      "cell_type": "code",
      "metadata": {
        "colab": {
          "base_uri": "https://localhost:8080/"
        },
        "id": "v6oxzF1yyOco",
        "outputId": "807d5588-e9fd-4b27-9b43-acb4fb8a37de"
      },
      "source": [
        "def mergesort(A,p,r):\n",
        "  if p<r:\n",
        "    q = int((p+r)/2)\n",
        "    mergesort(A,p,q)\n",
        "    mergesort(A,q+1,r)\n",
        "    merge(A,p,q,r)\n",
        "\n",
        "def merge(A,p,q,r):\n",
        "  i=p; j=q+1; t=0\n",
        "  tmp =[0]*len(A)\n",
        "  while i<=q and j<=r:\n",
        "    if A[i] <= A[j]:\n",
        "      tmp[t] = A[i]\n",
        "      t += 1\n",
        "      i += 1\n",
        "    else:\n",
        "      tmp[t] = A[j]\n",
        "      t += 1 \n",
        "      j += 1\n",
        "  while i <= q:\n",
        "    tmp[t] = A[i]\n",
        "    t += 1 \n",
        "    i += 1\n",
        "  while j <= r:\n",
        "    tmp[t] = A[j]\n",
        "    t += 1 \n",
        "    j += 1\n",
        "  i = p \n",
        "  t = 0\n",
        "  while i<=r:\n",
        "    A[i] = tmp[t]\n",
        "    i += 1 \n",
        "    t +=1\n",
        "\n",
        "A = [3,2,8,6,4,9]\n",
        "mergesort(A,0,len(A)-1)\n",
        "A\n"
      ],
      "execution_count": null,
      "outputs": [
        {
          "output_type": "execute_result",
          "data": {
            "text/plain": [
              "[2, 3, 4, 6, 8, 9]"
            ]
          },
          "metadata": {},
          "execution_count": 2
        }
      ]
    },
    {
      "cell_type": "code",
      "metadata": {
        "id": "5VGtx5jwz2oY"
      },
      "source": [
        "def Heapsort(A):\n",
        "  bulidHeap"
      ],
      "execution_count": null,
      "outputs": []
    }
  ]
}