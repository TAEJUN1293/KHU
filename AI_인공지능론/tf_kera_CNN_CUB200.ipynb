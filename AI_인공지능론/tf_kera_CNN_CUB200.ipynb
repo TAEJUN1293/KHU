{
  "nbformat": 4,
  "nbformat_minor": 0,
  "metadata": {
    "colab": {
      "name": "tf.kera_CNN_CUB200.ipynb의 사본",
      "provenance": [],
      "collapsed_sections": []
    },
    "kernelspec": {
      "name": "python3",
      "display_name": "Python 3"
    },
    "language_info": {
      "name": "python"
    },
    "accelerator": "GPU"
  },
  "cells": [
    {
      "cell_type": "code",
      "metadata": {
        "colab": {
          "base_uri": "https://localhost:8080/"
        },
        "id": "bGS3cg92GFQ9",
        "outputId": "7c8158fc-0183-4d4c-f351-60a4921b93cd"
      },
      "source": [
        "from google.colab import drive\n",
        "\n",
        "drive.mount('/content/gdrive')   # google drive를 google colab에 연결. 처음 실행 시, 인증 필요 "
      ],
      "execution_count": null,
      "outputs": [
        {
          "output_type": "stream",
          "name": "stdout",
          "text": [
            "Drive already mounted at /content/gdrive; to attempt to forcibly remount, call drive.mount(\"/content/gdrive\", force_remount=True).\n"
          ]
        }
      ]
    },
    {
      "cell_type": "code",
      "metadata": {
        "id": "S_PMETJxGHO5",
        "colab": {
          "base_uri": "https://localhost:8080/"
        },
        "outputId": "ee5bdea2-d0ff-4163-c195-b930156cbac3"
      },
      "source": [
        "!unzip '/content/gdrive/My Drive/Colab Notebooks/ai/CUB200.zip' -d '/content/gdrive/My Drive/Colab Notebooks/ai/CUB200'"
      ],
      "execution_count": null,
      "outputs": [
        {
          "output_type": "stream",
          "name": "stdout",
          "text": [
            "Archive:  /content/gdrive/My Drive/Colab Notebooks/ai/CUB200.zip\n",
            "replace /content/gdrive/My Drive/Colab Notebooks/ai/CUB200/test/001.Black_footed_Albatross/Black_Footed_Albatross_0001_796111.jpg? [y]es, [n]o, [A]ll, [N]one, [r]ename: "
          ]
        }
      ]
    },
    {
      "cell_type": "code",
      "metadata": {
        "colab": {
          "base_uri": "https://localhost:8080/",
          "height": 241
        },
        "id": "SfCd_B2TGivl",
        "outputId": "00445a23-632d-4413-da9d-fe4b7104b185"
      },
      "source": [
        "import numpy as np\n",
        "import tensorflow as tf\n",
        "from tensorflow.keras.models import Sequential\n",
        "from tensorflow.keras.layers import Flatten,Dense\n",
        "from tensorflow.keras.optimizers import Adam\n",
        "from tensorflow.keras.applications.resnet50 import ResNet50,preprocess_input\n",
        "from tensorflow.keras.preprocessing import image\n",
        "import os\n",
        "\n",
        "dir = \"/content/gdrive/My Drive/Colab Notebooks/ai/\"\n",
        "train_folder = dir + 'CUB20/train'\n",
        "test_folder = dir + 'CUB20/test'\n",
        "\n",
        "class_reduce=0.1 # 부류 수 줄여서 데이터양 줄임(속도와 메모리 효율을 위해)\n",
        "no_class=int(len(os.listdir(train_folder))*class_reduce) # 부류 개수\n",
        "\n",
        "x_train,y_train=[],[]\n",
        "for i,class_name in enumerate(os.listdir(train_folder)):\n",
        "    if i<no_class: # 13~14행이 지정한 부류만 사용\n",
        "        for fname in os.listdir(train_folder+'/'+class_name):\n",
        "            img=image.load_img(train_folder+'/'+class_name+'/'+fname,target_size=(224,224))\n",
        "            if len(img.getbands())!=3:\n",
        "                print(\"주의: 유효하지 않은 영상 발생\",class_name,fname)\n",
        "                continue\n",
        "            x=image.img_to_array(img)\n",
        "            x=preprocess_input(x)\n",
        "            x_train.append(x)\n",
        "            y_train.append(i)\n",
        "\n",
        "x_test,y_test=[],[]\n",
        "for i,class_name in enumerate(os.listdir(test_folder)):\n",
        "    if i<no_class: # 13~14행이 지정한 부류만 사용\n",
        "        for fname in os.listdir(test_folder+'/'+class_name):\n",
        "            img=image.load_img(test_folder+'/'+class_name+'/'+fname,target_size=(224,224))\n",
        "            if len(img.getbands())!=3:\n",
        "                print(\"주의: 유효하지 않은 영상 발생\",class_name,fname)\n",
        "                continue\n",
        "            x=image.img_to_array(img)\n",
        "            x=preprocess_input(x)\n",
        "            x_test.append(x)\n",
        "            y_test.append(i)\n",
        "\n",
        "x_train=np.asarray(x_train)\n",
        "y_train=np.asarray(y_train)\n",
        "x_test=np.asarray(x_test)\n",
        "y_test=np.asarray(y_test)\n",
        "y_train=tf.keras.utils.to_categorical(y_train,no_class)\n",
        "y_test=tf.keras.utils.to_categorical(y_test,no_class)\n",
        "\n",
        "base_model=ResNet50(weights='imagenet',include_top=False,input_shape=(224,224,3))\n",
        "cnn=Sequential()\n",
        "cnn.add(base_model)\n",
        "cnn.add(Flatten())\n",
        "cnn.add(Dense(1024,activation='relu'))\n",
        "cnn.add(Dense(no_class,activation='softmax'))\n",
        "\n",
        "cnn.compile(loss='categorical_crossentropy',optimizer=Adam(0.00002),metrics=['accuracy'])\n",
        "hist=cnn.fit(x_train,y_train,batch_size=16,epochs=10,validation_data=(x_test,y_test),verbose=1)\n",
        "\n",
        "res=cnn.evaluate(x_test,y_test,verbose=0)\n",
        "print(\"정확률은\",res[1]*100)"
      ],
      "execution_count": null,
      "outputs": [
        {
          "output_type": "error",
          "ename": "FileNotFoundError",
          "evalue": "ignored",
          "traceback": [
            "\u001b[0;31m---------------------------------------------------------------------------\u001b[0m",
            "\u001b[0;31mFileNotFoundError\u001b[0m                         Traceback (most recent call last)",
            "\u001b[0;32m<ipython-input-7-1c9fd47a38ca>\u001b[0m in \u001b[0;36m<module>\u001b[0;34m()\u001b[0m\n\u001b[1;32m     13\u001b[0m \u001b[0;34m\u001b[0m\u001b[0m\n\u001b[1;32m     14\u001b[0m \u001b[0mclass_reduce\u001b[0m\u001b[0;34m=\u001b[0m\u001b[0;36m0.1\u001b[0m \u001b[0;31m# 부류 수 줄여서 데이터양 줄임(속도와 메모리 효율을 위해)\u001b[0m\u001b[0;34m\u001b[0m\u001b[0;34m\u001b[0m\u001b[0m\n\u001b[0;32m---> 15\u001b[0;31m \u001b[0mno_class\u001b[0m\u001b[0;34m=\u001b[0m\u001b[0mint\u001b[0m\u001b[0;34m(\u001b[0m\u001b[0mlen\u001b[0m\u001b[0;34m(\u001b[0m\u001b[0mos\u001b[0m\u001b[0;34m.\u001b[0m\u001b[0mlistdir\u001b[0m\u001b[0;34m(\u001b[0m\u001b[0mtrain_folder\u001b[0m\u001b[0;34m)\u001b[0m\u001b[0;34m)\u001b[0m\u001b[0;34m*\u001b[0m\u001b[0mclass_reduce\u001b[0m\u001b[0;34m)\u001b[0m \u001b[0;31m# 부류 개수\u001b[0m\u001b[0;34m\u001b[0m\u001b[0;34m\u001b[0m\u001b[0m\n\u001b[0m\u001b[1;32m     16\u001b[0m \u001b[0;34m\u001b[0m\u001b[0m\n\u001b[1;32m     17\u001b[0m \u001b[0mx_train\u001b[0m\u001b[0;34m,\u001b[0m\u001b[0my_train\u001b[0m\u001b[0;34m=\u001b[0m\u001b[0;34m[\u001b[0m\u001b[0;34m]\u001b[0m\u001b[0;34m,\u001b[0m\u001b[0;34m[\u001b[0m\u001b[0;34m]\u001b[0m\u001b[0;34m\u001b[0m\u001b[0;34m\u001b[0m\u001b[0m\n",
            "\u001b[0;31mFileNotFoundError\u001b[0m: [Errno 2] No such file or directory: '/content/gdrive/My Drive/Colab Notebooks/ai/CUB20/train'"
          ]
        }
      ]
    },
    {
      "cell_type": "code",
      "metadata": {
        "id": "6Mse_rW9bf1G"
      },
      "source": [
        ""
      ],
      "execution_count": null,
      "outputs": []
    }
  ]
}